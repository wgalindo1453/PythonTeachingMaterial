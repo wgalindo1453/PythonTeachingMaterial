{
  "nbformat": 4,
  "nbformat_minor": 0,
  "metadata": {
    "colab": {
      "provenance": [],
      "include_colab_link": true
    },
    "kernelspec": {
      "name": "python3",
      "display_name": "Python 3"
    },
    "language_info": {
      "name": "python"
    }
  },
  "cells": [
    {
      "cell_type": "markdown",
      "metadata": {
        "id": "view-in-github",
        "colab_type": "text"
      },
      "source": [
        "<a href=\"https://colab.research.google.com/github/wgalindo1453/PythonTeachingMaterial/blob/main/Boolean_and_If_Else.ipynb\" target=\"_parent\"><img src=\"https://colab.research.google.com/assets/colab-badge.svg\" alt=\"Open In Colab\"/></a>"
      ]
    },
    {
      "cell_type": "markdown",
      "source": [
        "# Task 0: Summary of Today\n",
        "\n",
        "1. Review and practice for last week's tasks\n",
        "2. Boolean variables\n",
        "3. Comparisons\n",
        "4. Logical Operations\n",
        "5. If and if-else statements\n",
        "6. Mini-project: Rock, Paper, and Scissors\n",
        "7. Mini-project: Simple Calculator II"
      ],
      "metadata": {
        "id": "JPWkEaohZUDp"
      }
    },
    {
      "cell_type": "markdown",
      "source": [
        "# Task 1: Review of last week\n",
        "\n",
        "Questions:\n",
        "1. What are variables?\n",
        "```\n",
        "    A variable is a symbol to represent an object. A variable is container used to store/hold some value/number/boolean\n",
        "```\n",
        "\n",
        "\n",
        "\n",
        "2. Is \"12days\" a valid variable name (identifier)?\n",
        "```\n",
        "    Ans: No. Variables do not begin with numbers. (#invalid syntax)\n",
        "```\n",
        "\n",
        "\n",
        "3. Is \"name+age\" a valid variable name ?\n",
        "```\n",
        "  Ans: No. Operators cannot be used in variable names.\n",
        "```\n",
        "\n",
        "\n",
        "\n",
        "4. What are the rules of variable names ?\n",
        "```\n",
        "  Ans:\n",
        "    i.  A variable name must begin with a letter of the alphabet or an underscore(_)\n",
        "   ii.  You can use letters, digits, or underscores after the first character.\n",
        "  iii. Reserved words cannot be used to create variable names.\n",
        "   iv.  Variable names are case sensitive.\n",
        "\n",
        "\n",
        "\n",
        "5. Are \"X1\" and \"x1\" the same variable?\n",
        "```\n",
        " Ans: Yes. X1 starts with uppercase wwhile x1 starts with lowercase\n",
        "```\n",
        "\n",
        "\n",
        "6. What types of variables have we learned in last week?\n",
        "```\n",
        "Ans:\n",
        "  i.  Strings\n",
        "  ii. Numbers (interger/float)\n",
        " iii. Boolean\n",
        "```\n",
        "\n",
        "\n",
        ""
      ],
      "metadata": {
        "id": "-jVGv4i_bH4Q"
      }
    },
    {
      "cell_type": "markdown",
      "source": [
        "Coding Practices:\n",
        "1. In a new code cell,\n",
        "\n",
        "  a. create a new variable x, and assign value 12.3 to it\n",
        "\n",
        "  b. convert x to a string s\n",
        "\n",
        "  c. print the value of s"
      ],
      "metadata": {
        "id": "1Q37JzZHcsIu"
      }
    },
    {
      "cell_type": "code",
      "source": [
        "x = 12.3\n",
        "s = str(x)\n",
        "print(s)"
      ],
      "metadata": {
        "colab": {
          "base_uri": "https://localhost:8080/"
        },
        "id": "Vk_n1MyvZTok",
        "outputId": "06dcbbef-d7e4-4355-fa63-f180f8ebceb0"
      },
      "execution_count": null,
      "outputs": [
        {
          "output_type": "stream",
          "name": "stdout",
          "text": [
            "12.3\n"
          ]
        }
      ]
    },
    {
      "cell_type": "markdown",
      "source": [
        "2. (continue from previous task), in a new code cell\n",
        "   a. convert s back to a float variable y\n",
        "\n",
        "   b. show the type of y"
      ],
      "metadata": {
        "id": "LVYLqhIedVfr"
      }
    },
    {
      "cell_type": "code",
      "execution_count": null,
      "metadata": {
        "colab": {
          "base_uri": "https://localhost:8080/"
        },
        "id": "gCXFucswZDh-",
        "outputId": "ef62e80f-7ae3-4c86-df80-9c201cb005c0"
      },
      "outputs": [
        {
          "output_type": "execute_result",
          "data": {
            "text/plain": [
              "float"
            ]
          },
          "metadata": {},
          "execution_count": 2
        }
      ],
      "source": [
        "y = float(s)\n",
        "type(y)"
      ]
    },
    {
      "cell_type": "markdown",
      "source": [
        "# Task 2: Boolean Variable"
      ],
      "metadata": {
        "id": "t_HdVdaadnPC"
      }
    },
    {
      "cell_type": "markdown",
      "source": [
        "## Introduce the concept\n",
        "\n",
        "Booleans, or bools, are used to describe a \"True\" or \"False\" condition. Therefore, a boolean variable can have only two values, True or False.\n",
        "\n",
        "Booleans are typically used to make descisions. E.g., with booleans, the computer can tell whether an action is a game is win or loss, or whether today is Monday or not."
      ],
      "metadata": {
        "id": "Ae5mZkgBdsUy"
      }
    },
    {
      "cell_type": "markdown",
      "source": [
        "## Code examples\n",
        "\n",
        "In new code cells, please type"
      ],
      "metadata": {
        "id": "JVmeIjsEe78G"
      }
    },
    {
      "cell_type": "code",
      "source": [
        "p = True\n",
        "type(p)"
      ],
      "metadata": {
        "colab": {
          "base_uri": "https://localhost:8080/"
        },
        "id": "TGaTSvXVeAYs",
        "outputId": "2def82c7-ec51-448d-e5bf-47847dba5f4c"
      },
      "execution_count": null,
      "outputs": [
        {
          "output_type": "execute_result",
          "data": {
            "text/plain": [
              "bool"
            ]
          },
          "metadata": {},
          "execution_count": 3
        }
      ]
    },
    {
      "cell_type": "code",
      "source": [
        "q = False\n",
        "type(q)"
      ],
      "metadata": {
        "colab": {
          "base_uri": "https://localhost:8080/"
        },
        "id": "4Sukoi-WfIvB",
        "outputId": "60154494-f31a-437f-a744-5134780157a1"
      },
      "execution_count": null,
      "outputs": [
        {
          "output_type": "execute_result",
          "data": {
            "text/plain": [
              "bool"
            ]
          },
          "metadata": {},
          "execution_count": 4
        }
      ]
    },
    {
      "cell_type": "code",
      "source": [
        "print(p)\n",
        "print(q)"
      ],
      "metadata": {
        "colab": {
          "base_uri": "https://localhost:8080/"
        },
        "id": "0S25PMTnflE4",
        "outputId": "d05c2c8f-dc2d-44d4-e8d1-cee1ff395cde"
      },
      "execution_count": null,
      "outputs": [
        {
          "output_type": "stream",
          "name": "stdout",
          "text": [
            "True\n",
            "False\n"
          ]
        }
      ]
    },
    {
      "cell_type": "markdown",
      "source": [
        "Something fun: (**Only teach when there is time**)\n",
        "\n",
        "Boolean are treated as intergers. True is 1, and False is 0. Therefore, we can using boolean to do math computations"
      ],
      "metadata": {
        "id": "IDtY7LWqfNO-"
      }
    },
    {
      "cell_type": "code",
      "source": [
        "x = 12 + True\n",
        "print(x)"
      ],
      "metadata": {
        "colab": {
          "base_uri": "https://localhost:8080/"
        },
        "id": "hnZHt6WPfsLk",
        "outputId": "c739cc1d-9b1b-4723-b11b-db59447ec81e"
      },
      "execution_count": null,
      "outputs": [
        {
          "output_type": "stream",
          "name": "stdout",
          "text": [
            "13\n"
          ]
        }
      ]
    },
    {
      "cell_type": "code",
      "source": [
        "y = 12 + False\n",
        "print(y)"
      ],
      "metadata": {
        "colab": {
          "base_uri": "https://localhost:8080/"
        },
        "id": "0WvohcpmfzS_",
        "outputId": "95a17d2c-36b0-4ad5-dbe2-9629f7a00146"
      },
      "execution_count": null,
      "outputs": [
        {
          "output_type": "stream",
          "name": "stdout",
          "text": [
            "12\n"
          ]
        }
      ]
    },
    {
      "cell_type": "markdown",
      "source": [
        "# Task 3: Comparisons"
      ],
      "metadata": {
        "id": "1MXxrloFf5Lk"
      }
    },
    {
      "cell_type": "markdown",
      "source": [
        "## Introduce the concept\n",
        "\n",
        "Besides normal math operations, + - * /, we can also do comparisons in Python, to show which number is larger.\n",
        "\n",
        "There are six comparison operators\n",
        " * \"<\" less than  : shift + comma ( , )\n",
        " * \">\" greater than : shift + period (. )\n",
        " * \"<=\" less or equal : alt + less than ( < )\n",
        " * \">=\" greater or equal : alt + greater than ( > )\n",
        " * \"==\" equal/the same : double equals ( == )\n",
        " * \"!=\" not equal, not the same : exclamation mark + equals ( != )\n",
        "\n",
        "The result of the comparion is always a boolean. For example, for we can compare if 3 < 5, and the result should be true."
      ],
      "metadata": {
        "id": "rxtNeWsof9SA"
      }
    },
    {
      "cell_type": "markdown",
      "source": [
        "## Code examples\n",
        "\n",
        "In the following code cells, do some comparison examples.\n",
        "\n",
        "Pause before print/execute, let the student determine if the output should be true or false."
      ],
      "metadata": {
        "id": "yKNtYm_AkCTe"
      }
    },
    {
      "cell_type": "code",
      "source": [
        "p = 3 < 5\n",
        "print(p)"
      ],
      "metadata": {
        "colab": {
          "base_uri": "https://localhost:8080/"
        },
        "id": "n_jAXIkikANM",
        "outputId": "5bccb8ca-31eb-4e6e-beca-59a5d094c924"
      },
      "execution_count": null,
      "outputs": [
        {
          "output_type": "stream",
          "name": "stdout",
          "text": [
            "True\n"
          ]
        }
      ]
    },
    {
      "cell_type": "code",
      "source": [
        "p = 5 >= 6\n",
        "print(p)"
      ],
      "metadata": {
        "colab": {
          "base_uri": "https://localhost:8080/"
        },
        "id": "2wGQTfpEf8li",
        "outputId": "5cb59750-bc13-4d73-a6d7-a413ed141fd0"
      },
      "execution_count": null,
      "outputs": [
        {
          "output_type": "stream",
          "name": "stdout",
          "text": [
            "False\n"
          ]
        }
      ]
    },
    {
      "cell_type": "code",
      "source": [
        "x = 5\n",
        "p = (x == 5) # I added parentheses to make it easier to read. Need to tell the students, this is not necessary.\n",
        "print(p)"
      ],
      "metadata": {
        "colab": {
          "base_uri": "https://localhost:8080/"
        },
        "id": "CZic7F9ykcV4",
        "outputId": "216d2557-4d9f-40cc-a46a-857de51f4c0f"
      },
      "execution_count": null,
      "outputs": [
        {
          "output_type": "stream",
          "name": "stdout",
          "text": [
            "True\n"
          ]
        }
      ]
    },
    {
      "cell_type": "code",
      "source": [
        "p = (x != 6)\n",
        "print(p)"
      ],
      "metadata": {
        "colab": {
          "base_uri": "https://localhost:8080/"
        },
        "id": "SCG3a8kkv0zx",
        "outputId": "e866cd39-3287-4af2-dfd6-69c61f932bd5"
      },
      "execution_count": null,
      "outputs": [
        {
          "output_type": "stream",
          "name": "stdout",
          "text": [
            "True\n"
          ]
        }
      ]
    },
    {
      "cell_type": "markdown",
      "source": [
        "## Practices"
      ],
      "metadata": {
        "id": "EnJAKvBGk3DE"
      }
    },
    {
      "cell_type": "markdown",
      "source": [
        "1. Check if 12.5 is larger than 12.4, and print out the result"
      ],
      "metadata": {
        "id": "3YOFTC-3k6lp"
      }
    },
    {
      "cell_type": "code",
      "source": [
        "p = 12.5>12.4\n",
        "print(p)"
      ],
      "metadata": {
        "colab": {
          "base_uri": "https://localhost:8080/"
        },
        "id": "YQH-HaWxk5sU",
        "outputId": "6b2190ae-509b-4bf8-886a-6c31ecd59e37"
      },
      "execution_count": null,
      "outputs": [
        {
          "output_type": "stream",
          "name": "stdout",
          "text": [
            "True\n"
          ]
        }
      ]
    },
    {
      "cell_type": "markdown",
      "source": [
        "2. Anna was born in 2007. How old is Anna now? Is Anna old enough to drive?"
      ],
      "metadata": {
        "id": "VkOc3htbleUz"
      }
    },
    {
      "cell_type": "code",
      "source": [
        "anna_age = 2023-2007\n",
        "can_drive = anna_age >= 16\n",
        "print(can_drive)"
      ],
      "metadata": {
        "colab": {
          "base_uri": "https://localhost:8080/"
        },
        "id": "RwEfj3S_lXes",
        "outputId": "17a89342-fc23-40a8-a7af-dfcea5a0acb0"
      },
      "execution_count": null,
      "outputs": [
        {
          "output_type": "stream",
          "name": "stdout",
          "text": [
            "True\n"
          ]
        }
      ]
    },
    {
      "cell_type": "markdown",
      "source": [
        "# Task 4: Logical operations"
      ],
      "metadata": {
        "id": "V5uMrtmsmkEZ"
      }
    },
    {
      "cell_type": "markdown",
      "source": [
        "## Introduce the concept\n",
        "\n",
        "Sometimes we need to check multiple conditions at once. For example, to determine if a student gets a B, we need to check if the student's grade is above 80 and below 90 at the same time.\n",
        "\n",
        "There are four logical operations\n",
        "1. And, check if condition1 and condition2 are both true.\n",
        "   If both are true, retun True. Otherwise return false.\n",
        "2. Or,  check if either condition1 or condition 2 is true. If either one is true, return True. Otherwise, reture false.\n",
        "3. Not, check if a condition is not true. If the condition is false, return True. This is basically \"tell me the opposite\" operation."
      ],
      "metadata": {
        "id": "0jsuy3ddnm_r"
      }
    },
    {
      "cell_type": "markdown",
      "source": [
        "## Code examples\n",
        "\n",
        "In the new code cells, type the following examples.\n",
        "\n",
        "Pause before print/execute, let the student determine if the output should be true or false."
      ],
      "metadata": {
        "id": "NNZF_C-fpaGM"
      }
    },
    {
      "cell_type": "code",
      "source": [
        "p = (5>3) and (5<6)\n",
        "print(p)"
      ],
      "metadata": {
        "colab": {
          "base_uri": "https://localhost:8080/"
        },
        "id": "-sH9ckmdnmfM",
        "outputId": "9c31c313-f877-4421-8f52-dda38fab544a"
      },
      "execution_count": null,
      "outputs": [
        {
          "output_type": "stream",
          "name": "stdout",
          "text": [
            "True\n"
          ]
        }
      ]
    },
    {
      "cell_type": "code",
      "source": [
        "p = (5<3) and (5>6)\n",
        "print(p)"
      ],
      "metadata": {
        "colab": {
          "base_uri": "https://localhost:8080/"
        },
        "id": "khtQrExAqIrr",
        "outputId": "ccef7a06-7a9b-4f37-ab55-fdb60886e37b"
      },
      "execution_count": null,
      "outputs": [
        {
          "output_type": "stream",
          "name": "stdout",
          "text": [
            "False\n"
          ]
        }
      ]
    },
    {
      "cell_type": "code",
      "source": [
        "p = (5<3) or (5>6)\n",
        "print(p)"
      ],
      "metadata": {
        "colab": {
          "base_uri": "https://localhost:8080/"
        },
        "id": "rI_XiVw7rBec",
        "outputId": "bdd00d07-69ad-4c31-9c01-de30891e3388"
      },
      "execution_count": null,
      "outputs": [
        {
          "output_type": "stream",
          "name": "stdout",
          "text": [
            "False\n"
          ]
        }
      ]
    },
    {
      "cell_type": "code",
      "source": [
        "p = (12 > 11)\n",
        "q = not p\n",
        "print(q)"
      ],
      "metadata": {
        "colab": {
          "base_uri": "https://localhost:8080/"
        },
        "id": "1uLupPZdrIIJ",
        "outputId": "bee0c1ed-067b-4271-84cd-969a24d2b23c"
      },
      "execution_count": null,
      "outputs": [
        {
          "output_type": "stream",
          "name": "stdout",
          "text": [
            "False\n"
          ]
        }
      ]
    },
    {
      "cell_type": "markdown",
      "source": [
        "## Practices"
      ],
      "metadata": {
        "id": "kC9Yw7XxrgAo"
      }
    },
    {
      "cell_type": "markdown",
      "source": [
        "1. Check if 12 * 12 is smaller than 150, and larger than 100"
      ],
      "metadata": {
        "id": "3qxRo3D6riZ9"
      }
    },
    {
      "cell_type": "code",
      "source": [
        "x = 12 * 12\n",
        "p = (x<150) and (x>100)\n",
        "print(p)"
      ],
      "metadata": {
        "colab": {
          "base_uri": "https://localhost:8080/"
        },
        "id": "BxIQgj3vr6lS",
        "outputId": "493ee8ee-a671-43e4-a2bb-4b2554543b7a"
      },
      "execution_count": null,
      "outputs": [
        {
          "output_type": "stream",
          "name": "stdout",
          "text": [
            "True\n"
          ]
        }
      ]
    },
    {
      "cell_type": "markdown",
      "source": [
        "2. Write code to check if 67 points is a B?"
      ],
      "metadata": {
        "id": "Q-fNB0l-sNDO"
      }
    },
    {
      "cell_type": "code",
      "source": [
        "is_B = (67>80) and (67<90)\n",
        "print(is_B)"
      ],
      "metadata": {
        "colab": {
          "base_uri": "https://localhost:8080/"
        },
        "id": "uAbW-28isRrT",
        "outputId": "4f6923e2-bfc0-43b5-8884-38a64775d8f8"
      },
      "execution_count": null,
      "outputs": [
        {
          "output_type": "stream",
          "name": "stdout",
          "text": [
            "False\n"
          ]
        }
      ]
    },
    {
      "cell_type": "markdown",
      "source": [
        "# Task 5: If-else statements"
      ],
      "metadata": {
        "id": "CtIGi_GGsnDM"
      }
    },
    {
      "cell_type": "markdown",
      "source": [
        "## Introduce the concept of If\n",
        "\n",
        "If statements are used to make decisions based on conditions. For example, a screen reader will need to determine if it is focusing on some text or an image. If it is text, then the screen reader will output readings.\n",
        "\n",
        "Almost all programs have if statements.\n",
        "\n",
        "\n"
      ],
      "metadata": {
        "id": "ZGJ57ROHs3vQ"
      }
    },
    {
      "cell_type": "markdown",
      "source": [
        "## Code Example -- if syntax"
      ],
      "metadata": {
        "id": "TZzD1P5hur62"
      }
    },
    {
      "cell_type": "markdown",
      "source": [
        "Write a if statement determine if a students receives enough points for A. If the student does, then we can print \"Good job\" on the screen.\n",
        "\n",
        "Introduce if syntax with this example:\n",
        "1. *if* is a keyword. If statements start with *if*\n",
        "2. After *if* is the condition, it can be comparisons, or logical operations\n",
        "3. After the condition, there is a colon \":\"\n",
        "4. The action when the condition is true is coded on the next line\n",
        "5. The action line starts with an indent.\n",
        "   * The indention is usually a few spaces, e.g., two spaces. Technically, you can use any number of spaces, but it must be consistence in your code.\n",
        "   * Colab automatically add the indention, so you don't need to do it.\n",
        "   * The indention may be difficult to read by screen reader and braille display. Ask the student if the indention is read by the screen reader or displayed by the braille. **Note sure how colab's auto-indent will afect coding.**"
      ],
      "metadata": {
        "id": "2Wtxvs5BwP3G"
      }
    },
    {
      "cell_type": "code",
      "source": [
        "points = 93\n",
        "if points >= 90:\n",
        "  print(\"Good job!\")"
      ],
      "metadata": {
        "colab": {
          "base_uri": "https://localhost:8080/"
        },
        "id": "atRmb3z1s2-v",
        "outputId": "b0f57b45-4b3f-4dac-f881-f647fabcbc88"
      },
      "execution_count": null,
      "outputs": [
        {
          "output_type": "stream",
          "name": "stdout",
          "text": [
            "Good job!\n"
          ]
        }
      ]
    },
    {
      "cell_type": "markdown",
      "source": [
        "Write a if statement determine if a students receives enough points for C(grades between 80 and 70). If the student does, then we can print \"You can do better!\" on the screen.\n"
      ],
      "metadata": {
        "id": "lWN8p6jHye1d"
      }
    },
    {
      "cell_type": "code",
      "source": [
        "points = 70\n",
        "if (points >= 70) and (points < 80):\n",
        "  print(\"You can do better!\")"
      ],
      "metadata": {
        "colab": {
          "base_uri": "https://localhost:8080/"
        },
        "id": "PLZ3nPT1yyf9",
        "outputId": "4abfdf79-dcd3-4b63-a232-853c46ca1147"
      },
      "execution_count": null,
      "outputs": [
        {
          "output_type": "stream",
          "name": "stdout",
          "text": [
            "You can do better!\n"
          ]
        }
      ]
    },
    {
      "cell_type": "markdown",
      "source": [
        "## Introduce the concept of Else\n",
        "\n",
        "Sometimes, we want to take two actions based on if a condition if true or false: True, take on action, false, take another action.\n",
        "\n",
        "To do this, in if statement, we can add a line starting with \"else\" line after the \"True\" action, to specific the \"false\" action."
      ],
      "metadata": {
        "id": "f3XLBOfSzLfR"
      }
    },
    {
      "cell_type": "markdown",
      "source": [
        "## Code Example -- else syntax\n",
        "\n",
        "* Else starts on the line after the \"True\" action.\n",
        "* There is no idention before else\n",
        "* There is a \"colon\" after else"
      ],
      "metadata": {
        "id": "5OLxtQoq0UV8"
      }
    },
    {
      "cell_type": "markdown",
      "source": [
        "\n",
        "Write a if statement determine if a students receives enough points for A. If the student does, then we can print \"Good job\" on the screen. Otherwise, print \"You can do better!\"."
      ],
      "metadata": {
        "id": "0FwZvxGP0uto"
      }
    },
    {
      "cell_type": "code",
      "source": [
        "points = 87\n",
        "if points >= 90:\n",
        "  print(\"Good job!\")\n",
        "else:\n",
        "  print(\"You can do better!\")"
      ],
      "metadata": {
        "colab": {
          "base_uri": "https://localhost:8080/"
        },
        "id": "DMys2BPx0TTX",
        "outputId": "147299be-e92a-4b29-ce1c-2eba62db340b"
      },
      "execution_count": null,
      "outputs": [
        {
          "output_type": "stream",
          "name": "stdout",
          "text": [
            "You can do better!\n"
          ]
        }
      ]
    },
    {
      "cell_type": "markdown",
      "source": [
        "## Practices"
      ],
      "metadata": {
        "id": "Igg8gp_01Ib_"
      }
    },
    {
      "cell_type": "markdown",
      "source": [
        "John was born in 2010. Write a if statement to check if John can drive or not. If he can, print \"Congralations! You can drive!\". If he can't, print \"Congratulations! You are young!\"."
      ],
      "metadata": {
        "id": "eK3P4OTB1Lsm"
      }
    },
    {
      "cell_type": "code",
      "source": [
        "john_age = 2023-2010\n",
        "if john_age >= 16:\n",
        "  print(\"Congratulations! You can drive!\")\n",
        "else:\n",
        "  print(\"Congratulations! You are young!\")"
      ],
      "metadata": {
        "colab": {
          "base_uri": "https://localhost:8080/"
        },
        "id": "c_SlzCpk1m8Y",
        "outputId": "8e1e4bb2-497f-4ae0-ae0e-34fbbf66f621"
      },
      "execution_count": null,
      "outputs": [
        {
          "output_type": "stream",
          "name": "stdout",
          "text": [
            "Congratulations! You are young!\n"
          ]
        }
      ]
    },
    {
      "cell_type": "markdown",
      "source": [
        "# Task 6: Mini-project: Rock, Paper and Scissors\n",
        "\n",
        "\n",
        "This is a mini-project to play \"rock, paper, and scissors\" with the computers. The human player chooses rock, paper, and scissor, and the computer chooses too. Then we use if statements to determine if the human player wins or loses.\n",
        "\n",
        "For simplicity, we use \"r\" for \"rock\", \"p\" for \"paper\", and \"s\" for \"scissors\"."
      ],
      "metadata": {
        "id": "G_40wue-17M_"
      }
    },
    {
      "cell_type": "code",
      "source": [
        "# Let the user input the choice\n",
        "print(\"Please choose, r, p or s:\") # this line can  urbe omitted or simplified for the students\n",
        "human = input()\n",
        "print(\"You have chosen \" + human)"
      ],
      "metadata": {
        "colab": {
          "base_uri": "https://localhost:8080/"
        },
        "id": "AHwdlbDX2BbP",
        "outputId": "81d045c1-069d-4a1b-cc46-30145eab3101"
      },
      "execution_count": null,
      "outputs": [
        {
          "output_type": "stream",
          "name": "stdout",
          "text": [
            "Please choose, r, p or s:\n",
            "p\n",
            "You have chosen  p\n"
          ]
        }
      ]
    },
    {
      "cell_type": "code",
      "source": [
        "# Let the computer choose\n",
        "import random # Explain that random is an external library, i.e., code developed by others.\n",
        "computer = random.choice([\"r\", \"p\", \"s\"])\n",
        "print(\"Computer has chosen \" + computer)"
      ],
      "metadata": {
        "colab": {
          "base_uri": "https://localhost:8080/"
        },
        "id": "Ea7FUzYp3Dm4",
        "outputId": "31aa6498-e6e1-4642-8abe-32fef5dd7c88"
      },
      "execution_count": null,
      "outputs": [
        {
          "output_type": "stream",
          "name": "stdout",
          "text": [
            "Computer has chosen  r\n"
          ]
        }
      ]
    },
    {
      "cell_type": "markdown",
      "source": [
        "The code initializes a variable result to \"lose\", which assumes that the computer wins by default.\n",
        "\n",
        "The code then checks if the human player's choice (human) is the same as the computer's choice (computer). If they are the same, then the game is a tie, so the result variable is set to \"tie\".\n",
        "\n",
        "If the game is not a tie, then the code checks all possible combinations of choices to determine if the human player has lost. If the human chose \"r\" and the computer chose \"p\", or if the human chose \"p\" and the computer chose \"s\", or if the human chose \"s\" and the computer chose \"r\", then the human player loses and the result variable is set to \"lose\".\n",
        "\n",
        "Finally, the code prints out the result variable, which indicates whether the human player won, lost, or tied."
      ],
      "metadata": {
        "id": "EG0BtAA1C9AY"
      }
    },
    {
      "cell_type": "code",
      "source": [
        "# Check who wins\n",
        "\n",
        "# assume winning\n",
        "result = \"You win!\"\n",
        "\n",
        "# check if tie\n",
        "if human == computer:\n",
        "  result = \"It is a tie!\"\n",
        "\n",
        "# check if lose\n",
        "if human == \"r\" and computer == \"p\":\n",
        "  result = \"You lose!\"\n",
        "\n",
        "if human == \"p\" and computer == \"s\":\n",
        "  result = \"You lose!\"\n",
        "\n",
        "if human == \"s\" and computer == \"r\":\n",
        "  result = \"You lose!\"\n",
        "\n",
        "# print out result\n",
        "print(result)"
      ],
      "metadata": {
        "colab": {
          "base_uri": "https://localhost:8080/"
        },
        "id": "fKzd3nep4jly",
        "outputId": "e14da356-f7ef-47a8-8689-fd3226de1675"
      },
      "execution_count": null,
      "outputs": [
        {
          "output_type": "stream",
          "name": "stdout",
          "text": [
            "You win!\n"
          ]
        }
      ]
    }
  ]
}