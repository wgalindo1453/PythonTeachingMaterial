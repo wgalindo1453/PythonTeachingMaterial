{
  "nbformat": 4,
  "nbformat_minor": 0,
  "metadata": {
    "colab": {
      "provenance": [],
      "toc_visible": true,
      "include_colab_link": true
    },
    "kernelspec": {
      "name": "python3",
      "display_name": "Python 3"
    },
    "language_info": {
      "name": "python"
    }
  },
  "cells": [
    {
      "cell_type": "markdown",
      "metadata": {
        "id": "view-in-github",
        "colab_type": "text"
      },
      "source": [
        "<a href=\"https://colab.research.google.com/github/wgalindo1453/PythonTeachingMaterial/blob/main/variablesTeachingScript.ipynb\" target=\"_parent\"><img src=\"https://colab.research.google.com/assets/colab-badge.svg\" alt=\"Open In Colab\"/></a>"
      ]
    },
    {
      "cell_type": "markdown",
      "source": [
        "##JupyterVox Teaching Script\n",
        "#Lesson 3, 03/25/23\n",
        "\n",
        "\n"
      ],
      "metadata": {
        "id": "Ws6e-2OmQztc"
      }
    },
    {
      "cell_type": "markdown",
      "source": [
        "##General Notes to Instructors\n",
        "\n",
        "\n",
        "1.   Take notes on the difficulties/issues encountered by the students\n",
        "2.  Be patient and wait for the student to finish, don’t jump in to assist immediately. Tell the student to ask for help when the student feels help is needed. We were intrusive in the first two sessions. If you feel you will need to type on the student’s keyboard, please ask permission from the student first. Also\n",
        "narrate what it is you are doing/looking for/trying to understand.\n",
        "1. When you move from one task to another (or to a different subtask), communicate this to the student. They are highly aural. As you communicate which task or subtask you are starting, it will help them to understand where they are at in terms of their present location relative to the entirety of what they have to accomplish for the morning   \n",
        "2. At the end of the session, we will need to ask the student for feedback for teaching improvements.\n",
        "  * We may also ask the parents for feedback\n",
        "1.We will separate the students to keep them focused on coding\n",
        "2.Need to make sure students don’t stray too much from teaching materials\n",
        "1. Ask Dr. Ewoldt and Dr. Neely for help, if we can’t manage it\n",
        "2. Give the students an overview of today’s tasks at the beginning.\n",
        "Need to disable auto-complete, auto-close brackets, and diagnose\n",
        "1.  Need to disable auto-complete, auto-close brackets, and diagnose (and all editing assistants) in Colab settings.\n",
        "2.   Take notes on the difficulties/issues encountered by the students\n"
      ],
      "metadata": {
        "id": "TpEkYU95RyZb"
      }
    },
    {
      "cell_type": "markdown",
      "source": [
        "##Task 0: Set-up & Overview of today’s tasks   \n",
        "\n",
        "1.   Explain new layout as students enter\n",
        "1.   Have students set up their laptops & braille readers on individual table then go to community table for snack/drink/fellowship\n",
        "2.  Dr. Ewoldt will explain overview of tasksp\n",
        "2.  Need to disable auto-complete, auto-close brackets, and diagnose (and all editing assistants) in Colab settings.\n",
        "\n",
        "\n"
      ],
      "metadata": {
        "id": "iYjFgUz3SO7t"
      }
    },
    {
      "cell_type": "markdown",
      "source": [
        "##Task 1: Recap of last week (20min)\n",
        "\n",
        "\n"
      ],
      "metadata": {
        "id": "FqFlGVenSgxF"
      }
    },
    {
      "cell_type": "markdown",
      "source": [
        "\n",
        "### Notes to instructor\n",
        "  1. Tell the student we will not assist, and they will need to work on this themselves"
      ],
      "metadata": {
        "id": "UxlTlQmdqYEI"
      }
    },
    {
      "cell_type": "markdown",
      "source": [
        "### Lecture\n",
        "1. Create a new Colab notebook\n",
        "2. Create a new code cell, code “3.3+5.3” (sum, decimal), execute,and examine the results."
      ],
      "metadata": {
        "id": "BkvPaRyfqgO6"
      }
    },
    {
      "cell_type": "code",
      "source": [
        "3.3 + 5.3"
      ],
      "metadata": {
        "colab": {
          "base_uri": "https://localhost:8080/"
        },
        "id": "OSP9cRRVTKJG",
        "outputId": "f7f62d61-78a1-4320-9233-b00f9bd6f3f5"
      },
      "execution_count": null,
      "outputs": [
        {
          "output_type": "execute_result",
          "data": {
            "text/plain": [
              "8.6"
            ]
          },
          "metadata": {},
          "execution_count": 1
        }
      ]
    },
    {
      "cell_type": "markdown",
      "source": [
        "3. Create a new code cell, code “7-4*12” (complex), and execute:"
      ],
      "metadata": {
        "id": "pagNlKZ7TXwl"
      }
    },
    {
      "cell_type": "code",
      "source": [
        "# This is the code format\n",
        "7-4*12"
      ],
      "metadata": {
        "colab": {
          "base_uri": "https://localhost:8080/"
        },
        "id": "sC9aZI26Td6h",
        "outputId": "4b980b05-11d9-4d70-e964-fa7b18b13af1"
      },
      "execution_count": null,
      "outputs": [
        {
          "output_type": "execute_result",
          "data": {
            "text/plain": [
              "-41"
            ]
          },
          "metadata": {},
          "execution_count": 2
        }
      ]
    },
    {
      "cell_type": "markdown",
      "source": [
        "4. Create a new code cell, code “(10+12)/(3-1)” (more parentheses), and execute"
      ],
      "metadata": {
        "id": "fj-HXKAaTmj9"
      }
    },
    {
      "cell_type": "code",
      "source": [
        "(10+12)/(3-1)"
      ],
      "metadata": {
        "colab": {
          "base_uri": "https://localhost:8080/"
        },
        "id": "JZqrxAOUTrO4",
        "outputId": "d740bba5-2d02-4e55-e374-3e001edf1b5f"
      },
      "execution_count": null,
      "outputs": [
        {
          "output_type": "execute_result",
          "data": {
            "text/plain": [
              "11.0"
            ]
          },
          "metadata": {},
          "execution_count": 3
        }
      ]
    },
    {
      "cell_type": "markdown",
      "source": [
        "5. Create a new code cell, code “(5-(3-2))**10” (nested parentheses and exponent), and execute. This one probably requires starting with (3-2), then to 5-(3-2), then to the final equation."
      ],
      "metadata": {
        "id": "obUwdGFZTxcB"
      }
    },
    {
      "cell_type": "code",
      "source": [
        "(5-(3-2))**10"
      ],
      "metadata": {
        "colab": {
          "base_uri": "https://localhost:8080/"
        },
        "id": "nwFVe-bBT4k4",
        "outputId": "503197c7-1884-44b8-cffd-59e21a6dc77c"
      },
      "execution_count": null,
      "outputs": [
        {
          "output_type": "execute_result",
          "data": {
            "text/plain": [
              "1048576"
            ]
          },
          "metadata": {},
          "execution_count": 4
        }
      ]
    },
    {
      "cell_type": "markdown",
      "source": [
        "6. Move the cursor back to the third “parentheses” cell and change the sum to “(9-3) *(7.2+4)”."
      ],
      "metadata": {
        "id": "YeQK3A5kUIWB"
      }
    },
    {
      "cell_type": "code",
      "source": [
        "(9-3) *(7.2+4)"
      ],
      "metadata": {
        "colab": {
          "base_uri": "https://localhost:8080/"
        },
        "id": "hdro2uu1UTH2",
        "outputId": "3aefbf96-92a9-47db-a76b-3140c239981f"
      },
      "execution_count": null,
      "outputs": [
        {
          "output_type": "execute_result",
          "data": {
            "text/plain": [
              "67.19999999999999"
            ]
          },
          "metadata": {},
          "execution_count": 5
        }
      ]
    },
    {
      "cell_type": "markdown",
      "source": [
        "#Task 2: Variables\n",
        "\n"
      ],
      "metadata": {
        "id": "Rapw55H2UfJp"
      }
    },
    {
      "cell_type": "markdown",
      "source": [
        "## Notes to instructor:\n",
        "\n",
        "1. we will cover assignments, variable computation, identifier, variable types, and type conversion, and keywords\n",
        "2. The students will encounter errors in this task. Let the student read the errors first to see how they react.\n",
        "1. This task is long, will need to take a break"
      ],
      "metadata": {
        "id": "gqvROi19p8Qu"
      }
    },
    {
      "cell_type": "markdown",
      "source": [
        "## Lecture"
      ],
      "metadata": {
        "id": "BBG9Lc10qG2J"
      }
    },
    {
      "cell_type": "markdown",
      "source": [
        "### Variable assignments (10min)\n",
        "1. Teach the concept of variables\n",
        "  *  A variable is a symbol to represent a math object. A variable is usually used to store some value/number\n",
        "  *  “=” is used to do assignments, I.e., assign values to a variable. Values can be changed or reassigned.\n",
        "  * A variable can be used in place of numbers in math computation\n",
        "  * Variables can be reassigned"
      ],
      "metadata": {
        "id": "36l_AAtRrOd7"
      }
    },
    {
      "cell_type": "markdown",
      "source": [
        "\n",
        "### Math with Variables\n",
        "1. Let the student write the following code in a code cell"
      ],
      "metadata": {
        "id": "A50NmOOCrXxa"
      }
    },
    {
      "cell_type": "code",
      "source": [
        "a = 12\n",
        "print(a)"
      ],
      "metadata": {
        "colab": {
          "base_uri": "https://localhost:8080/"
        },
        "id": "MuXy88jCUpGJ",
        "outputId": "943fd5c1-4f3f-40e0-cec3-3ec0692b525a"
      },
      "execution_count": null,
      "outputs": [
        {
          "output_type": "stream",
          "name": "stdout",
          "text": [
            "12\n"
          ]
        }
      ]
    },
    {
      "cell_type": "markdown",
      "source": [
        "2. Code in a new cell"
      ],
      "metadata": {
        "id": "xo8sup2qVKdC"
      }
    },
    {
      "cell_type": "code",
      "source": [
        "b = a + 13.2 # ask the student what should be the result\n",
        "print(b)"
      ],
      "metadata": {
        "colab": {
          "base_uri": "https://localhost:8080/"
        },
        "id": "TLHvs-6TVNC9",
        "outputId": "f72a92f0-3bdc-460b-b4df-3415af34ba74"
      },
      "execution_count": null,
      "outputs": [
        {
          "output_type": "stream",
          "name": "stdout",
          "text": [
            "25.2\n"
          ]
        }
      ]
    },
    {
      "cell_type": "markdown",
      "source": [
        "3. Code in a new cell"
      ],
      "metadata": {
        "id": "fJhEipywVjlT"
      }
    },
    {
      "cell_type": "code",
      "source": [
        "a = 15\n",
        "b = a + 13.2 # ask the student what b would be now\n",
        "print(b)"
      ],
      "metadata": {
        "colab": {
          "base_uri": "https://localhost:8080/"
        },
        "id": "CqhBwXTvVpyx",
        "outputId": "6a314634-f359-4e2a-fb4c-e4f3549887e5"
      },
      "execution_count": null,
      "outputs": [
        {
          "output_type": "stream",
          "name": "stdout",
          "text": [
            "28.2\n"
          ]
        }
      ]
    },
    {
      "cell_type": "markdown",
      "source": [
        "#### Practice\n",
        "\n",
        "\n",
        "  >a. Ask the student to create a variable with the name “x” and value   12.5. Then do the math to add another 12.5 to x.\n",
        "\n",
        ">b. Ask the student to compute 45/15, with 15 being stored in a variable."
      ],
      "metadata": {
        "id": "hJ-Q18GFshMD"
      }
    },
    {
      "cell_type": "markdown",
      "source": [
        "### Variable names (identifier) (15min)\n",
        "\n",
        "1.  Teach the rule of variable name\n",
        "  *   Must start with a letter\n",
        "  *   Can only have letters, digits, and und. erscore “_”\n",
        "  *   Teach the rule of variable name\n",
        "\n",
        "1.   Try assignments to different names\n",
        "  *  Note bad names will cause errors, let the student read the errors\n",
        "  *  Use the following names to do assignments, e.g., “a1 = 333”.\n",
        "     >1. X1\n",
        "     >2. x1\n",
        "     >3. firstName\n",
        "     >4. last_name\n",
        "     >5. ZipCode1\n",
        "     >6. 1stZipCode\n",
        "     >7. name+\n",
        "     >8. email@work\n",
        "\n",
        "1.  Practices\n",
        " * Number type, string, boolean (true false)\n",
        " * There are other types, we will learn in the future\n",
        " * The main reason of using type is because some types cannot be mixed together\n"
      ],
      "metadata": {
        "id": "sHhhVphqaVoG"
      }
    },
    {
      "cell_type": "markdown",
      "source": [
        "### Variable types (30 minutes)\n",
        "\n",
        "1.   Tell the students variable have types\n",
        "    * Number type, string, boolean (true false)\n",
        "    * There are other types, we will learn in the future\n",
        "    * There are other types, we will learn in the future\n"
      ],
      "metadata": {
        "id": "egw_cTN4s_JY"
      }
    },
    {
      "cell_type": "markdown",
      "source": [
        "#### Integer type\n",
        "  * Variable is used to hold whole numbers\n",
        "  * E.g., “a=12”\n",
        "  * In a new code cell, type"
      ],
      "metadata": {
        "id": "AQniCd1puia6"
      }
    },
    {
      "cell_type": "code",
      "source": [
        "a = 12\n",
        "type(a)"
      ],
      "metadata": {
        "id": "tfNRWi7Ytgu1",
        "colab": {
          "base_uri": "https://localhost:8080/"
        },
        "outputId": "e2623c31-040c-4536-a448-0a52843e389f"
      },
      "execution_count": null,
      "outputs": [
        {
          "output_type": "execute_result",
          "data": {
            "text/plain": [
              "int"
            ]
          },
          "metadata": {},
          "execution_count": 9
        }
      ]
    },
    {
      "cell_type": "markdown",
      "source": [
        "#### Float type\n",
        "  * Variable is used to hold decimal numbers; float is a special name in Computer Science for decimal numbers\n",
        " * E.g., “b = 12.3”\n",
        " * In a new code cell, type,\n"
      ],
      "metadata": {
        "id": "3N3eju9mbBL9"
      }
    },
    {
      "cell_type": "code",
      "source": [
        "b = 12.3\n",
        "type(b)"
      ],
      "metadata": {
        "colab": {
          "base_uri": "https://localhost:8080/"
        },
        "id": "Yswtxp4ZbKIp",
        "outputId": "064c020c-0a1d-402d-bbf7-64ea6a107056"
      },
      "execution_count": null,
      "outputs": [
        {
          "output_type": "execute_result",
          "data": {
            "text/plain": [
              "float"
            ]
          },
          "metadata": {},
          "execution_count": 10
        }
      ]
    },
    {
      "cell_type": "markdown",
      "source": [
        "#### String type\n",
        "  * Variable is used to hold a string of characters/text. Text must be quoted (single or double quote marks).\n",
        "  * E.g., “s = “i am a string variable””\n",
        "  * In a new code cell, type"
      ],
      "metadata": {
        "id": "2652wfr7bXR7"
      }
    },
    {
      "cell_type": "code",
      "source": [
        "  s = \"i am a string variable\"\n",
        "  type(s)"
      ],
      "metadata": {
        "colab": {
          "base_uri": "https://localhost:8080/"
        },
        "id": "jGA0msbmbhGR",
        "outputId": "72f812a3-813c-4085-81fd-95b94215f280"
      },
      "execution_count": null,
      "outputs": [
        {
          "output_type": "execute_result",
          "data": {
            "text/plain": [
              "str"
            ]
          },
          "metadata": {},
          "execution_count": 11
        }
      ]
    },
    {
      "cell_type": "markdown",
      "source": [
        " * In a new code cell, type:"
      ],
      "metadata": {
        "id": "TLStKbMNcUGj"
      }
    },
    {
      "cell_type": "code",
      "source": [
        "s1 = \"my name is \"\n",
        "s2 = \"John\" # the student’s name\n",
        "s3 = s1+s2 # here “+” is used to concatenate strings\n",
        "print(s3)"
      ],
      "metadata": {
        "colab": {
          "base_uri": "https://localhost:8080/"
        },
        "id": "WXbj8F94d2Jw",
        "outputId": "57bf3590-89ee-4c24-fbb2-c77f3318ca9c"
      },
      "execution_count": null,
      "outputs": [
        {
          "output_type": "stream",
          "name": "stdout",
          "text": [
            "my name is John\n"
          ]
        }
      ]
    },
    {
      "cell_type": "markdown",
      "source": [
        "#### Boolean\n",
        "\n",
        "  *Variable is used to hold a True or False value. Must be uppercase T and F. Typically used to make decision, e.g., do something when a variable is True\n",
        "\n",
        "* E.g., “m = True”\n",
        "* In a new code cell, type"
      ],
      "metadata": {
        "id": "LrsU8IfJeZhR"
      }
    },
    {
      "cell_type": "code",
      "source": [
        "m = True\n",
        "type(m)"
      ],
      "metadata": {
        "colab": {
          "base_uri": "https://localhost:8080/"
        },
        "id": "5gx8TpipcfxS",
        "outputId": "5191f83b-7ad8-4121-8e0c-da2f8a165138"
      },
      "execution_count": null,
      "outputs": [
        {
          "output_type": "execute_result",
          "data": {
            "text/plain": [
              "bool"
            ]
          },
          "metadata": {},
          "execution_count": 13
        }
      ]
    },
    {
      "cell_type": "code",
      "source": [
        "n = False\n",
        "type(n)"
      ],
      "metadata": {
        "id": "scUXRsIQwH57",
        "colab": {
          "base_uri": "https://localhost:8080/"
        },
        "outputId": "b1c088d4-7f7e-4804-bc2d-e2e8f4ddc120"
      },
      "execution_count": null,
      "outputs": [
        {
          "output_type": "execute_result",
          "data": {
            "text/plain": [
              "bool"
            ]
          },
          "metadata": {},
          "execution_count": 14
        }
      ]
    },
    {
      "cell_type": "markdown",
      "source": [
        "    * Tell the students there are more types, and we will learn them when they are used"
      ],
      "metadata": {
        "id": "ela2SO1Oc0N0"
      }
    },
    {
      "cell_type": "markdown",
      "source": [
        "### Mixing types in equations\n",
        "  * Tell the student different types of variables cannot always be used in the same equation"
      ],
      "metadata": {
        "id": "-TUlnfayc9GH"
      }
    },
    {
      "cell_type": "markdown",
      "source": [
        "#### Ints and Floats\n",
        "Int and float variables can be used in the same equation. For example, in a new cell"
      ],
      "metadata": {
        "id": "2YWxtnX5wVWI"
      }
    },
    {
      "cell_type": "code",
      "source": [
        "x = 12\n",
        "y = 13.3\n",
        "z = x + y\n",
        "print(z)"
      ],
      "metadata": {
        "colab": {
          "base_uri": "https://localhost:8080/"
        },
        "id": "TV89BAVffWWF",
        "outputId": "101eb790-1e45-41c3-f38b-9393d6536180"
      },
      "execution_count": null,
      "outputs": [
        {
          "output_type": "stream",
          "name": "stdout",
          "text": [
            "25.3\n"
          ]
        }
      ]
    },
    {
      "cell_type": "markdown",
      "source": [
        "#### Strings and Ints/Floats\n",
        "\n",
        "String and int/float variables cannot be used in the same equation. For example, in a new code cell,"
      ],
      "metadata": {
        "id": "hUO6Y5lkfuhI"
      }
    },
    {
      "cell_type": "code",
      "source": [
        "s = \"a string\" # let the student type anything\n",
        "x = 12\n",
        "s3 = s + x\n",
        "#There should be an error"
      ],
      "metadata": {
        "colab": {
          "base_uri": "https://localhost:8080/",
          "height": 229
        },
        "id": "g7D55HJ5ftWF",
        "outputId": "0559803e-dbbd-4f0e-8b50-d1ca37ac29e6"
      },
      "execution_count": null,
      "outputs": [
        {
          "output_type": "error",
          "ename": "TypeError",
          "evalue": "ignored",
          "traceback": [
            "\u001b[0;31m---------------------------------------------------------------------------\u001b[0m",
            "\u001b[0;31mTypeError\u001b[0m                                 Traceback (most recent call last)",
            "\u001b[0;32m<ipython-input-16-fcab51b4b243>\u001b[0m in \u001b[0;36m<cell line: 3>\u001b[0;34m()\u001b[0m\n\u001b[1;32m      1\u001b[0m \u001b[0ms\u001b[0m \u001b[0;34m=\u001b[0m \u001b[0;34m\"a string\"\u001b[0m \u001b[0;31m# let the student type anything\u001b[0m\u001b[0;34m\u001b[0m\u001b[0;34m\u001b[0m\u001b[0m\n\u001b[1;32m      2\u001b[0m \u001b[0mx\u001b[0m \u001b[0;34m=\u001b[0m \u001b[0;36m12\u001b[0m\u001b[0;34m\u001b[0m\u001b[0;34m\u001b[0m\u001b[0m\n\u001b[0;32m----> 3\u001b[0;31m \u001b[0ms3\u001b[0m \u001b[0;34m=\u001b[0m \u001b[0ms\u001b[0m \u001b[0;34m+\u001b[0m \u001b[0mx\u001b[0m\u001b[0;34m\u001b[0m\u001b[0;34m\u001b[0m\u001b[0m\n\u001b[0m\u001b[1;32m      4\u001b[0m \u001b[0;31m#There should be an error\u001b[0m\u001b[0;34m\u001b[0m\u001b[0;34m\u001b[0m\u001b[0m\n",
            "\u001b[0;31mTypeError\u001b[0m: can only concatenate str (not \"int\") to str"
          ]
        }
      ]
    },
    {
      "cell_type": "markdown",
      "source": [
        " The same holds for string and Boolean. For example"
      ],
      "metadata": {
        "id": "sVPieZTghInV"
      }
    },
    {
      "cell_type": "code",
      "source": [
        "s = \"string\" # let the student type anything\n",
        "m = False\n",
        "s3 = s + m\n",
        "#There again should be an error"
      ],
      "metadata": {
        "colab": {
          "base_uri": "https://localhost:8080/",
          "height": 229
        },
        "id": "aw2BdkiphRsN",
        "outputId": "b3efe914-fa1f-44b1-cdfc-72b9d3c646f3"
      },
      "execution_count": null,
      "outputs": [
        {
          "output_type": "error",
          "ename": "TypeError",
          "evalue": "ignored",
          "traceback": [
            "\u001b[0;31m---------------------------------------------------------------------------\u001b[0m",
            "\u001b[0;31mTypeError\u001b[0m                                 Traceback (most recent call last)",
            "\u001b[0;32m<ipython-input-32-61471a23241e>\u001b[0m in \u001b[0;36m<cell line: 3>\u001b[0;34m()\u001b[0m\n\u001b[1;32m      1\u001b[0m \u001b[0ms\u001b[0m \u001b[0;34m=\u001b[0m \u001b[0;34m\"string\"\u001b[0m \u001b[0;31m# let the student type anything\u001b[0m\u001b[0;34m\u001b[0m\u001b[0;34m\u001b[0m\u001b[0m\n\u001b[1;32m      2\u001b[0m \u001b[0mm\u001b[0m \u001b[0;34m=\u001b[0m \u001b[0;32mFalse\u001b[0m\u001b[0;34m\u001b[0m\u001b[0;34m\u001b[0m\u001b[0m\n\u001b[0;32m----> 3\u001b[0;31m \u001b[0ms3\u001b[0m \u001b[0;34m=\u001b[0m \u001b[0ms\u001b[0m \u001b[0;34m+\u001b[0m \u001b[0mm\u001b[0m\u001b[0;34m\u001b[0m\u001b[0;34m\u001b[0m\u001b[0m\n\u001b[0m\u001b[1;32m      4\u001b[0m \u001b[0;31m#There again should be an error\u001b[0m\u001b[0;34m\u001b[0m\u001b[0;34m\u001b[0m\u001b[0m\n",
            "\u001b[0;31mTypeError\u001b[0m: can only concatenate str (not \"bool\") to str"
          ]
        }
      ]
    },
    {
      "cell_type": "markdown",
      "source": [
        "### Booleans and Ints/Floats\n",
        "However, boolean can be combined with integer/floats. Bascially, True is treated as 1, and False is treated as 0. So they are basically integers. For example"
      ],
      "metadata": {
        "id": "3JcWxge_hv4O"
      }
    },
    {
      "cell_type": "code",
      "source": [
        "m = False\n",
        "x = 12\n",
        "y = m+x\n",
        "print(y)\n"
      ],
      "metadata": {
        "colab": {
          "base_uri": "https://localhost:8080/"
        },
        "id": "iAd8exYYh48J",
        "outputId": "bf93e392-b451-4e1b-ec42-19fb5b8211e4"
      },
      "execution_count": null,
      "outputs": [
        {
          "output_type": "stream",
          "name": "stdout",
          "text": [
            "12\n"
          ]
        }
      ]
    },
    {
      "cell_type": "markdown",
      "source": [
        "#### Practices\n",
        "  >1. Can a string be added to a string?\n",
        "  >2. Can a string be added to an integer?\n",
        "  >3. Can an integer be divided by a float?\n",
        "  >4. Does False subtracts 25.3 work?"
      ],
      "metadata": {
        "id": "IeBOnUR0w42W"
      }
    },
    {
      "cell_type": "markdown",
      "source": [
        "### Type conversion  \n",
        "* Tell the students sometimes we can convert integers/floats/booleans from and to strings"
      ],
      "metadata": {
        "id": "yRlqG4qpiYJ-"
      }
    },
    {
      "cell_type": "markdown",
      "source": [
        "#### Converting to strings.\n",
        "Use function str(). In three new code cells,"
      ],
      "metadata": {
        "id": "wWWgyy9mxQDx"
      }
    },
    {
      "cell_type": "code",
      "source": [
        "x = 12\n",
        "s = \"the value of x is \" + str(10) # “+” now works\n",
        "print(s)"
      ],
      "metadata": {
        "colab": {
          "base_uri": "https://localhost:8080/"
        },
        "id": "vTixGWWJixfo",
        "outputId": "3c6d7cb9-70f1-4d69-ab9f-f551aac75090"
      },
      "execution_count": null,
      "outputs": [
        {
          "output_type": "stream",
          "name": "stdout",
          "text": [
            "the value of x is 10\n"
          ]
        }
      ]
    },
    {
      "cell_type": "code",
      "source": [
        "y = 12.3\n",
        "s = \"the value of y is \" + str(y)\n",
        "print(s)"
      ],
      "metadata": {
        "colab": {
          "base_uri": "https://localhost:8080/"
        },
        "id": "NB5A1wSci1fm",
        "outputId": "120f6360-a073-4346-d11d-96bbb1e49469"
      },
      "execution_count": null,
      "outputs": [
        {
          "output_type": "stream",
          "name": "stdout",
          "text": [
            "the value of y is 12.3\n"
          ]
        }
      ]
    },
    {
      "cell_type": "code",
      "source": [
        "m = False\n",
        "s = \"the value of m is \" + str(m)\n",
        "print(s)"
      ],
      "metadata": {
        "colab": {
          "base_uri": "https://localhost:8080/"
        },
        "id": "W3lvnCVPi5ON",
        "outputId": "4620a364-f4b1-4912-bb94-53a9f2086992"
      },
      "execution_count": null,
      "outputs": [
        {
          "output_type": "stream",
          "name": "stdout",
          "text": [
            "the value of m is False\n"
          ]
        }
      ]
    },
    {
      "cell_type": "markdown",
      "source": [
        "#### Converting strings to Ints/Floats/Boolean"
      ],
      "metadata": {
        "id": "2wpWSbYQyVR8"
      }
    },
    {
      "cell_type": "markdown",
      "source": [
        "1. convert string to int"
      ],
      "metadata": {
        "id": "Dxdmo9CMyaWp"
      }
    },
    {
      "cell_type": "code",
      "source": [
        "s = \"12\"\n",
        "x = int(s)\n",
        "type(x)\n",
        "print(x)"
      ],
      "metadata": {
        "colab": {
          "base_uri": "https://localhost:8080/"
        },
        "id": "Agx9JovFyZiI",
        "outputId": "f300598d-088d-4427-9c3e-3e658a874d83"
      },
      "execution_count": null,
      "outputs": [
        {
          "output_type": "stream",
          "name": "stdout",
          "text": [
            "12\n"
          ]
        }
      ]
    },
    {
      "cell_type": "markdown",
      "source": [
        "2. convert string to float"
      ],
      "metadata": {
        "id": "eQlLkC7HyitK"
      }
    },
    {
      "cell_type": "code",
      "source": [
        "s = \"12.3\"\n",
        "y = float(s)\n",
        "type(y)"
      ],
      "metadata": {
        "colab": {
          "base_uri": "https://localhost:8080/"
        },
        "id": "voqsWK_wylg4",
        "outputId": "3901c1b7-f188-4048-aca1-3ccd02a39f50"
      },
      "execution_count": null,
      "outputs": [
        {
          "output_type": "execute_result",
          "data": {
            "text/plain": [
              "float"
            ]
          },
          "metadata": {},
          "execution_count": 21
        }
      ]
    },
    {
      "cell_type": "markdown",
      "source": [
        "3. convert string to boolean"
      ],
      "metadata": {
        "id": "SCq5oIPZyyD9"
      }
    },
    {
      "cell_type": "code",
      "source": [
        "s = \"True\"\n",
        "m = bool(s)\n",
        "type(m)"
      ],
      "metadata": {
        "colab": {
          "base_uri": "https://localhost:8080/"
        },
        "id": "Yel5qqr4y4s0",
        "outputId": "fddf5224-7378-4f80-9cc4-65c8e3f611dd"
      },
      "execution_count": null,
      "outputs": [
        {
          "output_type": "execute_result",
          "data": {
            "text/plain": [
              "bool"
            ]
          },
          "metadata": {},
          "execution_count": 22
        }
      ]
    },
    {
      "cell_type": "markdown",
      "source": [
        "4. Ask the student: What happens to int(“12.3”)? Try it out\n",
        "     "
      ],
      "metadata": {
        "id": "hBoqLvMwy_Gz"
      }
    },
    {
      "cell_type": "code",
      "source": [
        "int(\"12.3\")"
      ],
      "metadata": {
        "colab": {
          "base_uri": "https://localhost:8080/",
          "height": 177
        },
        "id": "EqKgxznLzDpM",
        "outputId": "739e5dbc-b606-4600-8634-4e389e5f8ca5"
      },
      "execution_count": null,
      "outputs": [
        {
          "output_type": "error",
          "ename": "ValueError",
          "evalue": "ignored",
          "traceback": [
            "\u001b[0;31m---------------------------------------------------------------------------\u001b[0m",
            "\u001b[0;31mValueError\u001b[0m                                Traceback (most recent call last)",
            "\u001b[0;32m<ipython-input-23-f845e30a1798>\u001b[0m in \u001b[0;36m<cell line: 1>\u001b[0;34m()\u001b[0m\n\u001b[0;32m----> 1\u001b[0;31m \u001b[0mint\u001b[0m\u001b[0;34m(\u001b[0m\u001b[0;34m\"12.3\"\u001b[0m\u001b[0;34m)\u001b[0m\u001b[0;34m\u001b[0m\u001b[0;34m\u001b[0m\u001b[0m\n\u001b[0m",
            "\u001b[0;31mValueError\u001b[0m: invalid literal for int() with base 10: '12.3'"
          ]
        }
      ]
    },
    {
      "cell_type": "markdown",
      "source": [
        "#Task 3: A simple calculator\n",
        "\n"
      ],
      "metadata": {
        "id": "WJukwkKcVyHW"
      }
    },
    {
      "cell_type": "markdown",
      "source": [
        "## Notes to instructor\n",
        "\n",
        "\n",
        "1.   We will first show them how to use the input() function\n",
        "2.   Ask the student to develop the code"
      ],
      "metadata": {
        "id": "Jo3gC7F7oBdG"
      }
    },
    {
      "cell_type": "markdown",
      "source": [
        "## Lecture\n"
      ],
      "metadata": {
        "id": "Zh3k83Fon4to"
      }
    },
    {
      "cell_type": "markdown",
      "source": [
        "### The input() function\n",
        "\n",
        "1. Use the input() function. Tell the student input() can be used to obtain user input and store it in a variable\n",
        "2. For example, in a new code cell\n",
        "3. *Note that the student may have trouble finding the input box. We need to be patient and wait*"
      ],
      "metadata": {
        "id": "6mz-A1oCzQyj"
      }
    },
    {
      "cell_type": "code",
      "source": [
        "print(\"Please input a string:\")\n",
        "s = input()\n",
        "print(s)"
      ],
      "metadata": {
        "colab": {
          "base_uri": "https://localhost:8080/"
        },
        "id": "6tpDN30VWTHB",
        "outputId": "62ed9f23-8a4e-4c9f-fd09-546e12092e9d"
      },
      "execution_count": null,
      "outputs": [
        {
          "output_type": "stream",
          "name": "stdout",
          "text": [
            "Please input a string:\n",
            "j\n",
            "j\n"
          ]
        }
      ]
    },
    {
      "cell_type": "markdown",
      "source": [
        "4. For a calculator, we need to accept inputs as numbers, change the code to\n",
        "\n",
        "\n"
      ],
      "metadata": {
        "id": "hCrAi6OUWe7s"
      }
    },
    {
      "cell_type": "code",
      "source": [
        "print(\"Please input the first number:\")\n",
        "a = input()\n",
        "print(a)"
      ],
      "metadata": {
        "colab": {
          "base_uri": "https://localhost:8080/"
        },
        "id": "xenZXtlwWzVc",
        "outputId": "302c1352-24b8-4067-9f24-a3da79452e32"
      },
      "execution_count": null,
      "outputs": [
        {
          "output_type": "stream",
          "name": "stdout",
          "text": [
            "Please input the first number:\n",
            "a\n",
            "a\n"
          ]
        }
      ]
    },
    {
      "cell_type": "markdown",
      "source": [
        "5. Ask the student what the type is “a,” and how to verify that. “a” should be string, and it can be verified with type(a)"
      ],
      "metadata": {
        "id": "uqiAYQ7pz3FT"
      }
    },
    {
      "cell_type": "code",
      "source": [
        "type(a)"
      ],
      "metadata": {
        "colab": {
          "base_uri": "https://localhost:8080/"
        },
        "id": "8v1Gb2oDz7zZ",
        "outputId": "5e602579-51df-4031-8712-ea24446be1bf"
      },
      "execution_count": null,
      "outputs": [
        {
          "output_type": "execute_result",
          "data": {
            "text/plain": [
              "str"
            ]
          },
          "metadata": {},
          "execution_count": 26
        }
      ]
    },
    {
      "cell_type": "markdown",
      "source": [
        "5. Ask the student can we use a string to do math computation. The answer should be No.\n",
        "\n",
        "6. Ask the student how to convert the string to numbers? The answer should be int() or float().  \n",
        "For generality, we will use float(), so the code should bAsk the student how to convert the string to numbers? The answer should be int() or float().  \n",
        "For generality, we will use float(), so the code should b"
      ],
      "metadata": {
        "id": "f79jbzYpXA_E"
      }
    },
    {
      "cell_type": "code",
      "source": [
        "print(\"Please input the first number:\")\n",
        "a = input()\n",
        "x = float(a) # use a new variable x to hold the value"
      ],
      "metadata": {
        "colab": {
          "base_uri": "https://localhost:8080/"
        },
        "id": "xdGc3r66ZBJM",
        "outputId": "2899b165-7f63-43ef-a1d5-13e43a4e0a4e"
      },
      "execution_count": null,
      "outputs": [
        {
          "name": "stdout",
          "output_type": "stream",
          "text": [
            "Please input the first number:\n",
            "8.5\n"
          ]
        }
      ]
    },
    {
      "cell_type": "markdown",
      "source": [
        "### The Calculator"
      ],
      "metadata": {
        "id": "7H2wQSB40atf"
      }
    },
    {
      "cell_type": "markdown",
      "source": [
        "7. For the 2nd variable, in the same cell, ask the student to figure out the following for the 2nd variable,  \n"
      ],
      "metadata": {
        "id": "H8_s5-gr0llQ"
      }
    },
    {
      "cell_type": "code",
      "source": [
        "print(\"Please input the second number:\")\n",
        "b = input()\n",
        "y = float(b)"
      ],
      "metadata": {
        "colab": {
          "base_uri": "https://localhost:8080/"
        },
        "id": "8YypdOEC0gq5",
        "outputId": "4bebca76-85b9-476e-9c04-11a963a00670"
      },
      "execution_count": null,
      "outputs": [
        {
          "name": "stdout",
          "output_type": "stream",
          "text": [
            "Please input the second number:\n",
            "9.0\n"
          ]
        }
      ]
    },
    {
      "cell_type": "markdown",
      "source": [
        "8. At last, in the same cell, let the student add the code to do the math,\n"
      ],
      "metadata": {
        "id": "xHwtXltK0zNC"
      }
    },
    {
      "cell_type": "code",
      "source": [
        "z = x + y\n",
        "print(z)"
      ],
      "metadata": {
        "colab": {
          "base_uri": "https://localhost:8080/"
        },
        "id": "kwdT_F6BTRcm",
        "outputId": "3015a31b-c2f5-46a9-c286-8113566a933e"
      },
      "execution_count": null,
      "outputs": [
        {
          "output_type": "stream",
          "name": "stdout",
          "text": [
            "17.5\n"
          ]
        }
      ]
    },
    {
      "cell_type": "markdown",
      "source": [
        "9. Ask the student to change the operator “+” to others"
      ],
      "metadata": {
        "id": "1DDwpEMRUjAf"
      }
    },
    {
      "cell_type": "markdown",
      "source": [
        "10. A more powerful equation calculator\n",
        "  * We will use the eval function. It does automatically evaluation/calculation of equations.\n",
        "  * Python provides this function to simply coding. However, as a programmer we should be able to implement this eval function ourselves\n",
        "  * In a new code cell, type,"
      ],
      "metadata": {
        "id": "mtiFwGZe1qau"
      }
    },
    {
      "cell_type": "code",
      "source": [
        "print(\"Please input your math equation:\")\n",
        "eq = input()\n",
        "result = eval(eq)\n",
        "print(result)"
      ],
      "metadata": {
        "colab": {
          "base_uri": "https://localhost:8080/"
        },
        "id": "L9qu8dGW1soG",
        "outputId": "8aac3911-f4c5-4cfb-fcec-62f9d0f63453"
      },
      "execution_count": null,
      "outputs": [
        {
          "output_type": "stream",
          "name": "stdout",
          "text": [
            "Please input your math equation:\n",
            "0\n",
            "0\n"
          ]
        }
      ]
    },
    {
      "cell_type": "markdown",
      "source": [
        "# Wrapup\n",
        "\n",
        "1. Let the student share the Colab file with us. We need to send the files back to the parents\n",
        "\n",
        "2. Ask for feedback from the students and parents\n",
        "\n",
        "3. Additional questions for the students:  \n",
        "\n",
        "  * Can you screen read pictures\n",
        "\n",
        "  * How do you read math plots\n",
        "\n",
        "  * Any math problem you want to learn how to solve with a computer?"
      ],
      "metadata": {
        "id": "xMnGqCDk1jTQ"
      }
    }
  ]
}