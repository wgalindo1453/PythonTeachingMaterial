{
  "nbformat": 4,
  "nbformat_minor": 0,
  "metadata": {
    "colab": {
      "provenance": [],
      "include_colab_link": true
    },
    "kernelspec": {
      "name": "python3",
      "display_name": "Python 3"
    },
    "language_info": {
      "name": "python"
    }
  },
  "cells": [
    {
      "cell_type": "markdown",
      "metadata": {
        "id": "view-in-github",
        "colab_type": "text"
      },
      "source": [
        "<a href=\"https://colab.research.google.com/github/wgalindo1453/PythonTeachingMaterial/blob/main/Functions_and_Libraries.ipynb\" target=\"_parent\"><img src=\"https://colab.research.google.com/assets/colab-badge.svg\" alt=\"Open In Colab\"/></a>"
      ]
    },
    {
      "cell_type": "markdown",
      "source": [
        "#Task 0: Overview of today’s tasks   \n",
        "\n",
        "1. Review and practice from last lecture\n",
        "2. Functions\n",
        "3. Libaries\n",
        "4. Fun Activities. (Trying out importations of videos from Youtube)\n",
        "\n",
        "\n",
        "\n"
      ],
      "metadata": {
        "id": "KCFcT4DCBRcr"
      }
    },
    {
      "cell_type": "markdown",
      "source": [
        "#Task 1: Review of Last Lecture"
      ],
      "metadata": {
        "id": "Yl-JYrnYB-2X"
      }
    },
    {
      "cell_type": "markdown",
      "source": [
        "Refresher questions\n",
        "\n",
        " 1. What is a list?\n",
        "\n",
        "\n",
        "\n",
        "\n",
        "\n",
        "\n",
        "\n",
        "\n",
        "\n",
        "\n",
        "\n",
        "\n",
        "\n",
        "\n",
        "\n"
      ],
      "metadata": {
        "id": "VN4AMqiLCIjB"
      }
    },
    {
      "cell_type": "markdown",
      "source": [
        " 2. Open your code cell, create a variable list that contain three items of different data types.\n",
        "> list_name = ['cat',5, 8.0]\n",
        "\n",
        " 3. Print out the content of your variable list"
      ],
      "metadata": {
        "id": "8Oka1cNrsjK2"
      }
    },
    {
      "cell_type": "code",
      "source": [
        "list_name = ['cat',5, 8.0]\n",
        "print(list_name)"
      ],
      "metadata": {
        "colab": {
          "base_uri": "https://localhost:8080/"
        },
        "id": "QqRC780TJC1p",
        "outputId": "1d88565c-0e0f-471d-dda3-0a7e40266988"
      },
      "execution_count": null,
      "outputs": [
        {
          "output_type": "stream",
          "name": "stdout",
          "text": [
            "['cat', 5, 8.0]\n"
          ]
        }
      ]
    },
    {
      "cell_type": "markdown",
      "source": [
        "4. Use list indexing to acess and print the scond item on the list.\n"
      ],
      "metadata": {
        "id": "vIoORp3fJHFB"
      }
    },
    {
      "cell_type": "code",
      "source": [
        "list_name[1]\n"
      ],
      "metadata": {
        "colab": {
          "base_uri": "https://localhost:8080/"
        },
        "id": "Y11i-cSfJM7G",
        "outputId": "7a22fb82-ad1c-4ff7-d024-75ab98c98c59"
      },
      "execution_count": null,
      "outputs": [
        {
          "output_type": "execute_result",
          "data": {
            "text/plain": [
              "5"
            ]
          },
          "metadata": {},
          "execution_count": 2
        }
      ]
    },
    {
      "cell_type": "markdown",
      "source": [
        "\n",
        "5. How is a dictionary different from a list?\n",
        "> Answer: List are ordered and are indexed using integer values (0,1,2....n) while dictionaries are unordered and uses key-value pair (age: 12, \"state\": Texas)"
      ],
      "metadata": {
        "id": "Yp5fhixxJRsY"
      }
    },
    {
      "cell_type": "markdown",
      "source": [
        "\n",
        "6. Create and print dictionary that contain three values.\n"
      ],
      "metadata": {
        "id": "EzSK23HsJXEt"
      }
    },
    {
      "cell_type": "code",
      "source": [
        "my_dict = {'name': 'salvy', 'state': 'Texas', 'Zip_code': 00000}\n",
        "print(my_dict)"
      ],
      "metadata": {
        "colab": {
          "base_uri": "https://localhost:8080/"
        },
        "id": "RzjjVmisJcNZ",
        "outputId": "663055bb-e45b-4cbe-842a-1a413989d75e"
      },
      "execution_count": null,
      "outputs": [
        {
          "output_type": "stream",
          "name": "stdout",
          "text": [
            "{'name': 'salvy', 'state': 'Texas', 'Zip_code': 0}\n"
          ]
        }
      ]
    },
    {
      "cell_type": "markdown",
      "source": [
        " 7. Add another item pair to your dictionary and print the new dictionary\n"
      ],
      "metadata": {
        "id": "YiBzztuzJou6"
      }
    },
    {
      "cell_type": "code",
      "source": [
        "my_dict['phone']= 1111\n",
        "print(my_dict)"
      ],
      "metadata": {
        "colab": {
          "base_uri": "https://localhost:8080/"
        },
        "id": "Oqz70EBYJsd0",
        "outputId": "92b961e4-0cd7-4e24-83ed-19cce083691d"
      },
      "execution_count": null,
      "outputs": [
        {
          "output_type": "stream",
          "name": "stdout",
          "text": [
            "{'name': 'salvy', 'state': 'Texas', 'Zip_code': 0, 'phone': 1111}\n"
          ]
        }
      ]
    },
    {
      "cell_type": "markdown",
      "source": [
        "8. Delete the key state from the dictionary,and print the updated dictionary"
      ],
      "metadata": {
        "id": "mqHS_IXxKgn9"
      }
    },
    {
      "cell_type": "code",
      "source": [
        "del my_dict[\"state\"]\n"
      ],
      "metadata": {
        "id": "MLGKjj8cKX17"
      },
      "execution_count": null,
      "outputs": []
    },
    {
      "cell_type": "code",
      "source": [
        "print(my_dict)"
      ],
      "metadata": {
        "colab": {
          "base_uri": "https://localhost:8080/"
        },
        "id": "PuvXhSqwLfB_",
        "outputId": "d151e9be-7200-4e87-d501-a101a30374b5"
      },
      "execution_count": null,
      "outputs": [
        {
          "output_type": "stream",
          "name": "stdout",
          "text": [
            "{'name': 'salvy', 'Zip_code': 0, 'phone': 1111}\n"
          ]
        }
      ]
    },
    {
      "cell_type": "markdown",
      "source": [
        "#Task 2: Functions"
      ],
      "metadata": {
        "id": "hZ6cFpm39gXy"
      }
    },
    {
      "cell_type": "markdown",
      "source": [
        "##Lecture: What functions are in Python.\n",
        "Key concepts:\n",
        "1. Funtions in python, are block of codes used to perform a dedicated task.\n",
        "2. Functions can be reused many times.\n",
        "3. Functions helps in code readability, code modularity.\n",
        "4. Functions can take some inputs and generate a results. The inputs are called \"parameters,\" and the result is called \"returned value\".\n",
        "4. indentation is crucial in python functions\n",
        "\n",
        "\n",
        "\n",
        "\n",
        "\n"
      ],
      "metadata": {
        "id": "N_R9Lon0Gzwi"
      }
    },
    {
      "cell_type": "markdown",
      "source": [
        "### Structure of Python Functions.\n",
        "Teach students that functions are created / writen using specific format as represented on the layout below\n",
        "\n",
        "1. 'def' keyword is used in defining the function\n",
        "2. \"function_name\" is the name of the function. it could be any name you choose\n",
        "3. Teach them about parameters: which are inputs to the functions. We can one or more inputs. Multiple inputs are seperated with commas.\n",
        "4. Function code is the block or snippet of code writtenn inside function that performs a task when the function is executed.\n",
        "5. return value is the output of the function. It could be one or multiple.\n",
        "\n"
      ],
      "metadata": {
        "id": "mxAfnUb7CYZt"
      }
    },
    {
      "cell_type": "markdown",
      "source": [
        "## Code Structure of Function\n",
        "> Students should open a new code cell and type this:\n",
        "\n"
      ],
      "metadata": {
        "id": "hA_WlLdHCd-6"
      }
    },
    {
      "cell_type": "code",
      "source": [
        "def sum(x, y):\n",
        "  z = x + y\n",
        "  return z\n",
        "# explain the components of this funtion. Like the function name, parameters, function code, return value.\n",
        "# important to let the student note the indentation"
      ],
      "metadata": {
        "id": "fmWn9-uzEqME"
      },
      "execution_count": null,
      "outputs": []
    },
    {
      "cell_type": "markdown",
      "source": [
        "## Function Calling/Invocation\n",
        "\n",
        "To use the function, we have to call it into action. The task contained in the function is done anywhere the function is called.\n",
        "\n",
        "For example,"
      ],
      "metadata": {
        "id": "qZtxbdU3B1G_"
      }
    },
    {
      "cell_type": "code",
      "source": [
        "#Explain code snippet to students.\n",
        "result = sum(3, 10)\n",
        "print (result)"
      ],
      "metadata": {
        "id": "r70fIY5dHP1w",
        "colab": {
          "base_uri": "https://localhost:8080/"
        },
        "outputId": "9c810da9-a0b2-44d7-a8c3-81b83ca341df"
      },
      "execution_count": null,
      "outputs": [
        {
          "output_type": "stream",
          "name": "stdout",
          "text": [
            "13\n"
          ]
        }
      ]
    },
    {
      "cell_type": "markdown",
      "source": [
        "## More Examples:\n"
      ],
      "metadata": {
        "id": "5vm0VrL2EMNX"
      }
    },
    {
      "cell_type": "code",
      "source": [
        "def diff(a ,b):\n",
        "  c = a - b\n",
        "  return c\n",
        "# Ask students to identify the components of this funtion. Like the function name, parameters, function code, return value."
      ],
      "metadata": {
        "id": "A_Ki2lh2R2HK"
      },
      "execution_count": null,
      "outputs": []
    },
    {
      "cell_type": "markdown",
      "source": [
        "Calling and Using it to perform a task."
      ],
      "metadata": {
        "id": "bqx-8B4fQZel"
      }
    },
    {
      "cell_type": "code",
      "source": [
        "#Explain code snippet to students.\n",
        "result = diff(12, 10)\n",
        "print (result)"
      ],
      "metadata": {
        "id": "uvQBs7QFSd_i",
        "colab": {
          "base_uri": "https://localhost:8080/"
        },
        "outputId": "e258aa75-1c7b-4f31-dd89-12cd39c08486"
      },
      "execution_count": null,
      "outputs": [
        {
          "output_type": "stream",
          "name": "stdout",
          "text": [
            "2\n"
          ]
        }
      ]
    },
    {
      "cell_type": "markdown",
      "source": [
        "## Default Parameter Value\n",
        "Python can have default parameters. These parameters will have no value passed in it."
      ],
      "metadata": {
        "id": "AuQeRvI3SRQd"
      }
    },
    {
      "cell_type": "code",
      "source": [
        "def street(name, state=\"Texas\"):\n",
        "    print(state, name)\n",
        "\n",
        "street(\"UTSA Circle\")\n",
        "street(\"5th Avenue\", \"New York\")\n"
      ],
      "metadata": {
        "id": "uNGBj2QiMMZ9",
        "colab": {
          "base_uri": "https://localhost:8080/"
        },
        "outputId": "613e3f7a-6bdd-4b2c-ba72-3eff8817ad74"
      },
      "execution_count": null,
      "outputs": [
        {
          "output_type": "stream",
          "name": "stdout",
          "text": [
            "Texas UTSA Circle\n",
            "New York 5th Avenue\n"
          ]
        }
      ]
    },
    {
      "cell_type": "markdown",
      "source": [
        "Explain to student that in this example, state is a default parameter that contain value: \"Texas\". When the street () function is used with only one argument, it will make use of the default greeting.\n"
      ],
      "metadata": {
        "id": "UqnwLvJPQVX_"
      }
    },
    {
      "cell_type": "markdown",
      "source": [
        "##Practices"
      ],
      "metadata": {
        "id": "OtUn3dqQQ2iq"
      }
    },
    {
      "cell_type": "markdown",
      "source": [
        "1. Create a function that takes in three parameters and compute their multiplication\n",
        "2. Use this function\n",
        "3. Create a funtion that returns the larger one of two numbers.\n",
        "\n",
        "Answers are in the following cells."
      ],
      "metadata": {
        "id": "PudeVeANSeJc"
      }
    },
    {
      "cell_type": "code",
      "source": [
        "def three_number_mul(a, b, c):\n",
        "  d = a * b * c\n",
        "  return d\n",
        "\n",
        "r = three_number_mul(2, 4, 6)\n",
        "print(r)"
      ],
      "metadata": {
        "colab": {
          "base_uri": "https://localhost:8080/"
        },
        "id": "wpKqaMxpwfXb",
        "outputId": "d1a1a24b-5071-44a3-9bdf-2b1c02447e67"
      },
      "execution_count": null,
      "outputs": [
        {
          "output_type": "stream",
          "name": "stdout",
          "text": [
            "48\n"
          ]
        }
      ]
    },
    {
      "cell_type": "code",
      "source": [
        "def larger(a, b):\n",
        "  if a > b:\n",
        "    return a\n",
        "  else:\n",
        "    return b\n",
        "\n",
        "r = larger(167, 199)\n",
        "print(r)"
      ],
      "metadata": {
        "colab": {
          "base_uri": "https://localhost:8080/"
        },
        "id": "Ms1QT06TwpIX",
        "outputId": "905cad93-1075-439b-c64f-6cecc9da4b99"
      },
      "execution_count": null,
      "outputs": [
        {
          "output_type": "stream",
          "name": "stdout",
          "text": [
            "199\n"
          ]
        }
      ]
    },
    {
      "cell_type": "markdown",
      "source": [
        "#Task 3: Libraries\n",
        "\n"
      ],
      "metadata": {
        "id": "eoM9kg2UTXVB"
      }
    },
    {
      "cell_type": "markdown",
      "source": [
        "## Lecture:\n",
        "  Imagine libraries as already written functions. Recall that functions are codes written to perform specific task.\n",
        "  \n",
        "  A library is just a collection of functions that are already written and saved in python.\n",
        "  \n",
        "  To use a library, we need to \"import\" the library first. Then we can call the functions inside the library."
      ],
      "metadata": {
        "id": "iXBVlMF3Zq8J"
      }
    },
    {
      "cell_type": "markdown",
      "source": [
        "## Example 1: The math library\n",
        "\n",
        "1. Open a new code cell and type the following code. This code Calculate the square root of a number.\n",
        "\n",
        "First, we import the math library using the keyword \"import\"."
      ],
      "metadata": {
        "id": "eiPUnXCQZXAZ"
      }
    },
    {
      "cell_type": "code",
      "source": [
        "import math"
      ],
      "metadata": {
        "id": "5Odq01sVYbCR"
      },
      "execution_count": null,
      "outputs": []
    },
    {
      "cell_type": "markdown",
      "source": [
        "To used a function inside a library, we need to provide both the names of the library and function, and connect them using a \"dot\".\n",
        "\n",
        "For example, the following code calls the square root function in the math library."
      ],
      "metadata": {
        "id": "M4fQCUiSzrvu"
      }
    },
    {
      "cell_type": "code",
      "source": [
        "x = 25\n",
        "sqrt = math.sqrt(x)\n",
        "print(sqrt)  # Output: 5.0"
      ],
      "metadata": {
        "colab": {
          "base_uri": "https://localhost:8080/"
        },
        "id": "HuC61Y9CzMkH",
        "outputId": "f32cee02-eeb9-4fe1-8258-f47f89754d09"
      },
      "execution_count": null,
      "outputs": [
        {
          "output_type": "stream",
          "name": "stdout",
          "text": [
            "5.0\n"
          ]
        }
      ]
    },
    {
      "cell_type": "markdown",
      "source": [
        "2. Sometimes, libraries do not only have functions, but also some important variables. For example, the following code retrieve the \"pi\" variable from the math library."
      ],
      "metadata": {
        "id": "iQvd5MyJY7Zd"
      }
    },
    {
      "cell_type": "code",
      "source": [
        "pi = math.pi\n",
        "print(pi)  # Output: 3.141592653589793\n"
      ],
      "metadata": {
        "colab": {
          "base_uri": "https://localhost:8080/"
        },
        "id": "DPRWafMQY6Xz",
        "outputId": "e5b6e982-e4ed-4b87-f7ba-2c27b1868137"
      },
      "execution_count": null,
      "outputs": [
        {
          "output_type": "stream",
          "name": "stdout",
          "text": [
            "3.141592653589793\n"
          ]
        }
      ]
    },
    {
      "cell_type": "markdown",
      "source": [
        "3. Another example of using math library, the cos function with pi.\n"
      ],
      "metadata": {
        "id": "Hr4YARJTZGzz"
      }
    },
    {
      "cell_type": "code",
      "source": [
        "angle = math.pi / 4  # 45 degrees in radians\n",
        "cos = math.cos(angle)\n",
        "print(cos)  # Output: 0.7071067811865476"
      ],
      "metadata": {
        "colab": {
          "base_uri": "https://localhost:8080/"
        },
        "id": "zXu0wAZfZOfZ",
        "outputId": "aeaa1071-693d-41f6-8a33-34db572481e9"
      },
      "execution_count": null,
      "outputs": [
        {
          "output_type": "stream",
          "name": "stdout",
          "text": [
            "0.7071067811865476\n"
          ]
        }
      ]
    },
    {
      "cell_type": "markdown",
      "source": [
        "4. Example to calculate the least common multiple"
      ],
      "metadata": {
        "id": "26l84Xl5fOu7"
      }
    },
    {
      "cell_type": "code",
      "source": [
        "lcm = math.lcm(2,3,4)\n",
        "print(lcm)"
      ],
      "metadata": {
        "colab": {
          "base_uri": "https://localhost:8080/"
        },
        "id": "tbNR-nOtfiXr",
        "outputId": "f3f98983-818f-4db4-94ba-572657d1f726"
      },
      "execution_count": null,
      "outputs": [
        {
          "output_type": "stream",
          "name": "stdout",
          "text": [
            "12\n"
          ]
        }
      ]
    },
    {
      "cell_type": "markdown",
      "source": [
        "5. Calculating the Circumference of a Circle"
      ],
      "metadata": {
        "id": "bFOas189gK7w"
      }
    },
    {
      "cell_type": "code",
      "source": [
        "radius = 4\n",
        "ci = 2*math.pi*radius\n",
        "print(ci)"
      ],
      "metadata": {
        "colab": {
          "base_uri": "https://localhost:8080/"
        },
        "id": "_rlV2L3agUJk",
        "outputId": "5e2d9f4f-9566-4ba6-a7e2-b842c077561a"
      },
      "execution_count": null,
      "outputs": [
        {
          "output_type": "stream",
          "name": "stdout",
          "text": [
            "25.132741228718345\n"
          ]
        }
      ]
    },
    {
      "cell_type": "code",
      "source": [],
      "metadata": {
        "id": "5caOaunf63aZ"
      },
      "execution_count": null,
      "outputs": []
    },
    {
      "cell_type": "markdown",
      "source": [
        "## Example 2: Statistics\n"
      ],
      "metadata": {
        "id": "lWhk1HVGpfJZ"
      }
    },
    {
      "cell_type": "markdown",
      "source": [
        "In this second example, we will use the numpy package to compute averages."
      ],
      "metadata": {
        "id": "WxQLGkgZpmkL"
      }
    },
    {
      "cell_type": "code",
      "source": [
        "import numpy\n",
        "\n",
        "nums = [1, 2, 3, 4, 5]\n",
        "average = numpy.average(nums)\n",
        "print(average)"
      ],
      "metadata": {
        "colab": {
          "base_uri": "https://localhost:8080/"
        },
        "id": "LDaz0ESfqFMQ",
        "outputId": "567c35de-09e3-493c-c880-0fab2ec7a2bf"
      },
      "execution_count": null,
      "outputs": [
        {
          "output_type": "stream",
          "name": "stdout",
          "text": [
            "3.0\n"
          ]
        }
      ]
    },
    {
      "cell_type": "markdown",
      "source": [
        "# Task 4: Youtube Video"
      ],
      "metadata": {
        "id": "syw_Ov8K4ELV"
      }
    },
    {
      "cell_type": "markdown",
      "source": [
        "There are many Python libraries to can do various tasks. That's why Python is popular these days.\n",
        "\n",
        "In this task, we will display a Youtube video in this document. It would require a lot of code, if you want to do it yourself. But with packages, it just takes two lines of code."
      ],
      "metadata": {
        "id": "nO5y_mhh4R35"
      }
    },
    {
      "cell_type": "code",
      "source": [
        "from IPython.display import YouTubeVideo\n",
        "# we need to use the video id than full link\n",
        "YouTubeVideo('zHvBPwNUBS8') # feel free to change to your favoriate videos."
      ],
      "metadata": {
        "colab": {
          "base_uri": "https://localhost:8080/",
          "height": 321
        },
        "id": "Iv1W7-Sr34Qh",
        "outputId": "8e1f094a-cf7f-4e94-a9ea-6b742c1b5372"
      },
      "execution_count": null,
      "outputs": [
        {
          "output_type": "execute_result",
          "data": {
            "text/plain": [
              "<IPython.lib.display.YouTubeVideo at 0x7fb8133ec550>"
            ],
            "text/html": [
              "\n",
              "        <iframe\n",
              "            width=\"400\"\n",
              "            height=\"300\"\n",
              "            src=\"https://www.youtube.com/embed/zHvBPwNUBS8\"\n",
              "            frameborder=\"0\"\n",
              "            allowfullscreen\n",
              "            \n",
              "        ></iframe>\n",
              "        "
            ],
            "image/jpeg": "[encoded data removed]"
          },
          "metadata": {},
          "execution_count": 1
        }
      ]
    },
    {
      "cell_type": "markdown",
      "source": [
        "# Task 4: Youtube Video (Broken currently...)\n",
        "\n",
        "\n",
        "\n"
      ],
      "metadata": {
        "id": "qPoyEfMFZlMb"
      }
    },
    {
      "cell_type": "markdown",
      "source": [
        "## Steps\n",
        "We are going to use a Youtube package to import Youtube videos.  \n",
        "1. Sometimes, the packages we use need to be installed first, like in this case. So we will first the \"pytube\" package, which is needed to download YouTube videos.  \n",
        "2. We then import IPython.display and Pytube, two libraries. The video is downloaded using pytube, and is displayed in the notebook using the IPython.display library.\n",
        "3. The YouTube video's URL is then specified, and the video ID is then extracted from the URL.\n",
        "4. Using the Python YouTube library, we create a YouTube object and obtain the first video stream that is accessible.\n",
        "5. Finally, the video is displayed in the notebook using the YouTubeVideo function from the IPython.display library."
      ],
      "metadata": {
        "id": "LKCgvkrGgClH"
      }
    },
    {
      "cell_type": "code",
      "source": [
        "# First, let's install the necessary package. This installs a package and its dependencies into colab and makes it readily available for our use.\n",
        "!pip install --upgrade pytube\n",
        "\n",
        "# Now, let's import the necessary libraries\n",
        "from IPython.display import YouTubeVideo\n",
        "from pytube import YouTube\n",
        "\n",
        "# Next, let's get the YouTube video ID. Explain to students that this Youtube ID couldbe any ID of choice. They can have it replaced at the point of learning this.\n",
        "video_url = \"https://www.youtube.com/watch?v=zHvBPwNUBS8\"\n",
        "video_id = video_url.split(\"=\")[-1]\n",
        "\n",
        "# Now, let's create a YouTube object and get the video stream. Variable names are random. This could changed to name of chioce.\n",
        "vt = YouTube(video_url)\n",
        "stream = vt.streams.first()\n",
        "\n",
        "# Finally, let's play the video using the YouTubeVideo function\n",
        "YouTubeVideo(video_id)"
      ],
      "metadata": {
        "colab": {
          "base_uri": "https://localhost:8080/",
          "height": 484
        },
        "id": "e0mNI_tmdiei",
        "outputId": "3baa58d3-e0a7-4417-f16c-6292a66db937"
      },
      "execution_count": null,
      "outputs": [
        {
          "output_type": "stream",
          "name": "stdout",
          "text": [
            "Looking in indexes: https://pypi.org/simple, https://us-python.pkg.dev/colab-wheels/public/simple/\n",
            "Collecting pytube\n",
            "  Downloading pytube-12.1.3-py3-none-any.whl (57 kB)\n",
            "\u001b[2K     \u001b[90m━━━━━━━━━━━━━━━━━━━━━━━━━━━━━━━━━━━━━━━━\u001b[0m \u001b[32m57.2/57.2 kB\u001b[0m \u001b[31m1.8 MB/s\u001b[0m eta \u001b[36m0:00:00\u001b[0m\n",
            "\u001b[?25hInstalling collected packages: pytube\n",
            "Successfully installed pytube-12.1.3\n"
          ]
        },
        {
          "output_type": "error",
          "ename": "KeyError",
          "evalue": "ignored",
          "traceback": [
            "\u001b[0;31m---------------------------------------------------------------------------\u001b[0m",
            "\u001b[0;31mKeyError\u001b[0m                                  Traceback (most recent call last)",
            "\u001b[0;32m<ipython-input-22-1f2f32c4d8cc>\u001b[0m in \u001b[0;36m<cell line: 14>\u001b[0;34m()\u001b[0m\n\u001b[1;32m     12\u001b[0m \u001b[0;31m# Now, let's create a YouTube object and get the video stream. Variable names are random. This could changed to name of chioce.\u001b[0m\u001b[0;34m\u001b[0m\u001b[0;34m\u001b[0m\u001b[0m\n\u001b[1;32m     13\u001b[0m \u001b[0mvt\u001b[0m \u001b[0;34m=\u001b[0m \u001b[0mYouTube\u001b[0m\u001b[0;34m(\u001b[0m\u001b[0mvideo_url\u001b[0m\u001b[0;34m)\u001b[0m\u001b[0;34m\u001b[0m\u001b[0;34m\u001b[0m\u001b[0m\n\u001b[0;32m---> 14\u001b[0;31m \u001b[0mstream\u001b[0m \u001b[0;34m=\u001b[0m \u001b[0mvt\u001b[0m\u001b[0;34m.\u001b[0m\u001b[0mstreams\u001b[0m\u001b[0;34m.\u001b[0m\u001b[0mfirst\u001b[0m\u001b[0;34m(\u001b[0m\u001b[0;34m)\u001b[0m\u001b[0;34m\u001b[0m\u001b[0;34m\u001b[0m\u001b[0m\n\u001b[0m\u001b[1;32m     15\u001b[0m \u001b[0;34m\u001b[0m\u001b[0m\n\u001b[1;32m     16\u001b[0m \u001b[0;31m# Finally, let's play the video using the YouTubeVideo function\u001b[0m\u001b[0;34m\u001b[0m\u001b[0;34m\u001b[0m\u001b[0m\n",
            "\u001b[0;32m/usr/local/lib/python3.10/dist-packages/pytube/__main__.py\u001b[0m in \u001b[0;36mstreams\u001b[0;34m(self)\u001b[0m\n\u001b[1;32m    294\u001b[0m         \"\"\"\n\u001b[1;32m    295\u001b[0m         \u001b[0mself\u001b[0m\u001b[0;34m.\u001b[0m\u001b[0mcheck_availability\u001b[0m\u001b[0;34m(\u001b[0m\u001b[0;34m)\u001b[0m\u001b[0;34m\u001b[0m\u001b[0;34m\u001b[0m\u001b[0m\n\u001b[0;32m--> 296\u001b[0;31m         \u001b[0;32mreturn\u001b[0m \u001b[0mStreamQuery\u001b[0m\u001b[0;34m(\u001b[0m\u001b[0mself\u001b[0m\u001b[0;34m.\u001b[0m\u001b[0mfmt_streams\u001b[0m\u001b[0;34m)\u001b[0m\u001b[0;34m\u001b[0m\u001b[0;34m\u001b[0m\u001b[0m\n\u001b[0m\u001b[1;32m    297\u001b[0m \u001b[0;34m\u001b[0m\u001b[0m\n\u001b[1;32m    298\u001b[0m     \u001b[0;34m@\u001b[0m\u001b[0mproperty\u001b[0m\u001b[0;34m\u001b[0m\u001b[0;34m\u001b[0m\u001b[0m\n",
            "\u001b[0;32m/usr/local/lib/python3.10/dist-packages/pytube/__main__.py\u001b[0m in \u001b[0;36mfmt_streams\u001b[0;34m(self)\u001b[0m\n\u001b[1;32m    174\u001b[0m         \u001b[0mself\u001b[0m\u001b[0;34m.\u001b[0m\u001b[0m_fmt_streams\u001b[0m \u001b[0;34m=\u001b[0m \u001b[0;34m[\u001b[0m\u001b[0;34m]\u001b[0m\u001b[0;34m\u001b[0m\u001b[0;34m\u001b[0m\u001b[0m\n\u001b[1;32m    175\u001b[0m \u001b[0;34m\u001b[0m\u001b[0m\n\u001b[0;32m--> 176\u001b[0;31m         \u001b[0mstream_manifest\u001b[0m \u001b[0;34m=\u001b[0m \u001b[0mextract\u001b[0m\u001b[0;34m.\u001b[0m\u001b[0mapply_descrambler\u001b[0m\u001b[0;34m(\u001b[0m\u001b[0mself\u001b[0m\u001b[0;34m.\u001b[0m\u001b[0mstreaming_data\u001b[0m\u001b[0;34m)\u001b[0m\u001b[0;34m\u001b[0m\u001b[0;34m\u001b[0m\u001b[0m\n\u001b[0m\u001b[1;32m    177\u001b[0m \u001b[0;34m\u001b[0m\u001b[0m\n\u001b[1;32m    178\u001b[0m         \u001b[0;31m# If the cached js doesn't work, try fetching a new js file\u001b[0m\u001b[0;34m\u001b[0m\u001b[0;34m\u001b[0m\u001b[0m\n",
            "\u001b[0;32m/usr/local/lib/python3.10/dist-packages/pytube/__main__.py\u001b[0m in \u001b[0;36mstreaming_data\u001b[0;34m(self)\u001b[0m\n\u001b[1;32m    159\u001b[0m         \u001b[0;32melse\u001b[0m\u001b[0;34m:\u001b[0m\u001b[0;34m\u001b[0m\u001b[0;34m\u001b[0m\u001b[0m\n\u001b[1;32m    160\u001b[0m             \u001b[0mself\u001b[0m\u001b[0;34m.\u001b[0m\u001b[0mbypass_age_gate\u001b[0m\u001b[0;34m(\u001b[0m\u001b[0;34m)\u001b[0m\u001b[0;34m\u001b[0m\u001b[0;34m\u001b[0m\u001b[0m\n\u001b[0;32m--> 161\u001b[0;31m             \u001b[0;32mreturn\u001b[0m \u001b[0mself\u001b[0m\u001b[0;34m.\u001b[0m\u001b[0mvid_info\u001b[0m\u001b[0;34m[\u001b[0m\u001b[0;34m'streamingData'\u001b[0m\u001b[0;34m]\u001b[0m\u001b[0;34m\u001b[0m\u001b[0;34m\u001b[0m\u001b[0m\n\u001b[0m\u001b[1;32m    162\u001b[0m \u001b[0;34m\u001b[0m\u001b[0m\n\u001b[1;32m    163\u001b[0m     \u001b[0;34m@\u001b[0m\u001b[0mproperty\u001b[0m\u001b[0;34m\u001b[0m\u001b[0;34m\u001b[0m\u001b[0m\n",
            "\u001b[0;31mKeyError\u001b[0m: 'streamingData'"
          ]
        }
      ]
    }
  ]
}