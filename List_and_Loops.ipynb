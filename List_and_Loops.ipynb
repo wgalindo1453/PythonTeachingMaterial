{
  "nbformat": 4,
  "nbformat_minor": 0,
  "metadata": {
    "colab": {
      "provenance": [],
      "toc_visible": true,
      "include_colab_link": true
    },
    "kernelspec": {
      "name": "python3",
      "display_name": "Python 3"
    },
    "language_info": {
      "name": "python"
    }
  },
  "cells": [
    {
      "cell_type": "markdown",
      "metadata": {
        "id": "view-in-github",
        "colab_type": "text"
      },
      "source": [
        "<a href=\"https://colab.research.google.com/github/wgalindo1453/PythonTeachingMaterial/blob/main/List_and_Loops.ipynb\" target=\"_parent\"><img src=\"https://colab.research.google.com/assets/colab-badge.svg\" alt=\"Open In Colab\"/></a>"
      ]
    },
    {
      "cell_type": "markdown",
      "source": [
        "#General Notes to Instructors\n",
        "\n",
        "1. Take notes on the difficulties/issues encountered by the students\n",
        "2. Be patient and wait for the student to finish, don’t jump in to assist immediately. Tell the student to ask for help when the student feels help is needed. We were intrusive in the first two sessions. If you feel you will need to type on the student’s keyboard, please ask permission from the student first. Also\n",
        "narrate what it is you are doing/looking for/trying to understand.\n",
        "1. When you move from one task to another (or to a different subtask), communicate this to the student. They are highly aural. As you communicate which task or subtask you are starting, it will help them to understand where they are at in terms of their present location relative to the entirety of what they have to accomplish for the morning   \n",
        "2. At the end of the session, we will need to ask the student for feedback for teaching improvements.\n",
        "  * We may also ask the parents for feedback\n",
        "1. We will separate the students to keep them focused on coding\n",
        "2. Need to make sure students don’t stray too much from teaching materials\n",
        "1. Ask Dr. Ewoldt and Dr. Neely for help, if we can’t manage it\n",
        "2. Give the students an overview of today’s tasks at the beginning.\n",
        "Need to disable auto-complete, auto-close brackets, and diagnose\n",
        "1. Need to disable auto-complete, auto-close brackets, and diagnose (and all editing assistants) in Colab settings.\n",
        "2. Take notes on the difficulties/issues encountered by the students\n"
      ],
      "metadata": {
        "id": "7yBNlM5Pxqpw"
      }
    },
    {
      "cell_type": "markdown",
      "source": [
        "#Task 0: Overview of today’s tasks   \n",
        "\n",
        "1. Review and practice from last lecture\n",
        "2. Lists\n",
        "3. Dictionaries\n",
        "4. For loops and while loops\n",
        "5. A small project with loops\n",
        "\n",
        "\n",
        "\n"
      ],
      "metadata": {
        "id": "ZpTkzTzIyIwi"
      }
    },
    {
      "cell_type": "markdown",
      "source": [
        "#Task 1 List (35mins)\n",
        "\n",
        "\n",
        "\n",
        ""
      ],
      "metadata": {
        "id": "QCFB07zOBjGW"
      }
    },
    {
      "cell_type": "markdown",
      "source": [
        "##Notes to instructor:\n",
        "\n",
        "1. we will cover list creation, List manipulation (adding item to a list, removing item from a list, inserting from a list)\n",
        "2. The students will encounter errors in this task. Let the student read the errors first to see how they react.\n",
        "1. This task is long, will need to take a break"
      ],
      "metadata": {
        "id": "ohXvNycMKrCH"
      }
    },
    {
      "cell_type": "markdown",
      "source": [
        "## The Concept of List\n",
        "List (10min)\n",
        "1. Teach the concept of list\n",
        "  * Concept: Imagine a list as a container that can hold a couple of things, just as a backpack that\n",
        "cannhold some items like, laptop, mouse, books, pencils, etc. In Python, a list is a container that can hold couple of items in different forms (string, float, integers)\n",
        "  *  A list allows us to store multiple  values in a single variable.  A List is usually used to store some value/number.\n",
        "  *  “=” is used to do assignments, I.e., assign values to a list.\n",
        "  * The creation of list is done using square brackets\n",
        "  * List can contain any data type (string, interger, float)\n",
        "  * Once created, list can be changed. It can contain any number of values.\n",
        "  * A list is labelled with index. An index is like a label that helps you find something in your list. Just like you might put a label on your backpack to help you find what you need, you can use an index to find a specific item in a Python list. An index is a number that tells you where an item is located in the list. For example, if you have a list of five items, the first item is at index 0, the second item is at index 1, the third item is at index 2, and so on.\n",
        "  * Note that the index starts at 0, instead of 1. (OVEREMPHASIZE)\n",
        ""
      ],
      "metadata": {
        "id": "Ec9v6qo9K1tf"
      }
    },
    {
      "cell_type": "markdown",
      "source": [
        "##List Creation\n",
        "\n",
        "\n",
        "1. First, let's create an empty list to store the foods:\n",
        " * Let the student write the following code in a code cell: foods = []"
      ],
      "metadata": {
        "id": "bVNQId4ZW1vP"
      }
    },
    {
      "cell_type": "code",
      "source": [
        "foods = []   #Explain to students that this is an empty list"
      ],
      "metadata": {
        "id": "W8kLFriOXny6"
      },
      "execution_count": null,
      "outputs": []
    },
    {
      "cell_type": "markdown",
      "source": [
        "2. Let create a simple list that contains the names of some foods. Also print the list created: foods = [\"rice\", \"beans\", \"cereal\"]\n",
        " * Let the student write the following code in a code cell:\n"
      ],
      "metadata": {
        "id": "GMSpUxkUafL6"
      }
    },
    {
      "cell_type": "code",
      "source": [
        " foods = [\"rice\", \"beans\", \"cereal\"]\n",
        " print (foods)"
      ],
      "metadata": {
        "colab": {
          "base_uri": "https://localhost:8080/"
        },
        "id": "kHkP6QsvbSh5",
        "outputId": "6e3286bb-35fa-4a31-f9c3-1e949e9a8cb1"
      },
      "execution_count": null,
      "outputs": [
        {
          "output_type": "stream",
          "name": "stdout",
          "text": [
            "['rice', 'beans', 'cereal']\n"
          ]
        }
      ]
    },
    {
      "cell_type": "markdown",
      "source": [
        "3. Let create a simple list that contains the numbers Also print the list created: numbers = [1,2,3,4]\n",
        "  * Let the student write the following code in a code cell"
      ],
      "metadata": {
        "id": "4vXxi2W4bd5G"
      }
    },
    {
      "cell_type": "code",
      "source": [
        "numbers = [1,2,3,4]   # Explain to students that this list contain integer numbers\n",
        "print (numbers)"
      ],
      "metadata": {
        "colab": {
          "base_uri": "https://localhost:8080/"
        },
        "id": "Lm2-c6ZFb_md",
        "outputId": "c10796da-83aa-49ae-caf7-028fd3849fa9"
      },
      "execution_count": null,
      "outputs": [
        {
          "output_type": "stream",
          "name": "stdout",
          "text": [
            "[1, 2, 3, 4]\n"
          ]
        }
      ]
    },
    {
      "cell_type": "markdown",
      "source": [
        "##Accessing an Item in a List (Index)\n",
        "\n",
        "\n",
        "1. We can access the items in the by their index. Recall, the first item in the list has an index of 0, second is 1.\n"
      ],
      "metadata": {
        "id": "3GgPyR20ckhm"
      }
    },
    {
      "cell_type": "code",
      "source": [
        "print(foods[0]) #Ouput is Rice"
      ],
      "metadata": {
        "colab": {
          "base_uri": "https://localhost:8080/"
        },
        "id": "caL5iki5qa6X",
        "outputId": "348815ec-8cfe-41cd-8546-e889c4c7054a"
      },
      "execution_count": null,
      "outputs": [
        {
          "output_type": "stream",
          "name": "stdout",
          "text": [
            "rice\n"
          ]
        }
      ]
    },
    {
      "cell_type": "code",
      "source": [
        "print(foods[1])"
      ],
      "metadata": {
        "colab": {
          "base_uri": "https://localhost:8080/"
        },
        "id": "0TOFwyeS3gKf",
        "outputId": "62237699-afe6-451d-e667-62f864ab8312"
      },
      "execution_count": null,
      "outputs": [
        {
          "output_type": "stream",
          "name": "stdout",
          "text": [
            "burger\n"
          ]
        }
      ]
    },
    {
      "cell_type": "code",
      "source": [
        "print(foods[2])"
      ],
      "metadata": {
        "colab": {
          "base_uri": "https://localhost:8080/"
        },
        "id": "IwJ3O7KR3lUa",
        "outputId": "ad70a43f-35f3-437e-d344-5145fdeaed6a"
      },
      "execution_count": null,
      "outputs": [
        {
          "output_type": "stream",
          "name": "stdout",
          "text": [
            "cereal\n"
          ]
        }
      ]
    },
    {
      "cell_type": "markdown",
      "source": [
        "  2. items in a list can be changed using their index. For example, if you wish to change the second item on the list (\"beans\") to \"burger\", the following code can be used: foods[1] = \"burger\""
      ],
      "metadata": {
        "id": "gs04rPMCsn20"
      }
    },
    {
      "cell_type": "code",
      "source": [
        "foods[1] = \"burger\"\n",
        "print(foods)   #second item has index 1.)"
      ],
      "metadata": {
        "colab": {
          "base_uri": "https://localhost:8080/"
        },
        "id": "_h4jBqG2ti5K",
        "outputId": "c4ce0f63-7258-4c25-e419-1860c0133f27"
      },
      "execution_count": null,
      "outputs": [
        {
          "output_type": "stream",
          "name": "stdout",
          "text": [
            "['rice', 'burger', 'cereal']\n"
          ]
        }
      ]
    },
    {
      "cell_type": "markdown",
      "source": [
        "  3. You can also access items in the list from the end of the list. This can be done using negative indexes. For example, if you want to access the last item in the list (which is \"cereal\"), you can use the following code:\n",
        "print(foods[-1])\n",
        "      * This should output: cereal\n",
        "      "
      ],
      "metadata": {
        "id": "ylSMYSZjq461"
      }
    },
    {
      "cell_type": "code",
      "source": [
        "print(foods[-1])"
      ],
      "metadata": {
        "colab": {
          "base_uri": "https://localhost:8080/"
        },
        "id": "R1w8rC5Vrago",
        "outputId": "c1f376ae-4c67-439f-8041-ac5c6a2eaefd"
      },
      "execution_count": null,
      "outputs": [
        {
          "output_type": "stream",
          "name": "stdout",
          "text": [
            "cereal\n"
          ]
        }
      ]
    },
    {
      "cell_type": "markdown",
      "source": [
        "##List Manipulation\n",
        "   In a list, it is possible to do some manipulation like, deleting from the list, appending to the list, determining the length of the list.\n",
        "  "
      ],
      "metadata": {
        "id": "pJeWcT8Jt5id"
      }
    },
    {
      "cell_type": "markdown",
      "source": [
        "1. Appending in list. To add new item to a list, we use the append() method. Assume we want to add \"bread\" to the end of the list that contains foods. We can use this code to achieve that. foods.append (\"bread\")"
      ],
      "metadata": {
        "id": "ygjykMYK4CkZ"
      }
    },
    {
      "cell_type": "code",
      "source": [
        " #Please type this in your code cell\n",
        "foods.append(\"bread\")\n",
        "print(foods) # lets check content of the new list\n"
      ],
      "metadata": {
        "colab": {
          "base_uri": "https://localhost:8080/"
        },
        "id": "h1QTg8gyvfaj",
        "outputId": "ec6b6548-0397-4d21-905e-0363cb66d8ba"
      },
      "execution_count": null,
      "outputs": [
        {
          "output_type": "stream",
          "name": "stdout",
          "text": [
            "['rice', 'burger', 'cereal', 'bread']\n"
          ]
        }
      ]
    },
    {
      "cell_type": "markdown",
      "source": [
        "2. Deleting or removinf item froma list. This can be done using the remove() method. Lets assume we want ot remove burger from the list. we can us the code to achieve this: foods.remove(\"burger)"
      ],
      "metadata": {
        "id": "HU9avdQVv2uq"
      }
    },
    {
      "cell_type": "code",
      "source": [
        "foods.remove(\"burger\")\n",
        "print(foods) #burger removed from the list"
      ],
      "metadata": {
        "colab": {
          "base_uri": "https://localhost:8080/"
        },
        "id": "HL-IXmLCw-MI",
        "outputId": "99a64c8e-9ad2-4740-c3a1-c0d892a6a301"
      },
      "execution_count": null,
      "outputs": [
        {
          "output_type": "stream",
          "name": "stdout",
          "text": [
            "['rice', 'cereal', 'bread']\n"
          ]
        }
      ]
    },
    {
      "cell_type": "markdown",
      "source": [
        "3. We can decide to remove items fromt the list starting with the last item on the list. this can be done using the pop() method.\n",
        "  * Example, let's remove the last item (bread) fro the list.\n",
        "    * use the code: foods.pop()"
      ],
      "metadata": {
        "id": "HIjmnBhkxrzy"
      }
    },
    {
      "cell_type": "code",
      "source": [
        "food = foods.pop()\n",
        "print(foods) #This should output: ['rice', 'cereal']\n",
        "print(food) # this shoudl print out the last item that was removed bread"
      ],
      "metadata": {
        "colab": {
          "base_uri": "https://localhost:8080/"
        },
        "id": "qTAvaDl3yfZb",
        "outputId": "281b84c8-b2fa-4f37-ead6-c54f7bd2f178"
      },
      "execution_count": null,
      "outputs": [
        {
          "output_type": "stream",
          "name": "stdout",
          "text": [
            "['rice', 'cereal']\n",
            "bread\n"
          ]
        }
      ]
    },
    {
      "cell_type": "markdown",
      "source": [
        "4. we can find the length of the list using the len() function. For example, if you want to find out how many items are in the list, you can use the following code: print(len(foods))\n",
        "  * Open a new code cell and type this"
      ],
      "metadata": {
        "id": "oUmlq5Pkyul-"
      }
    },
    {
      "cell_type": "code",
      "source": [
        "print(len(foods)) #the present number of values remaining in the list"
      ],
      "metadata": {
        "colab": {
          "base_uri": "https://localhost:8080/"
        },
        "id": "KrD30CnAG_VT",
        "outputId": "f4a94117-310e-442f-faa9-28bc092976ad"
      },
      "execution_count": null,
      "outputs": [
        {
          "output_type": "stream",
          "name": "stdout",
          "text": [
            "2\n"
          ]
        }
      ]
    },
    {
      "cell_type": "markdown",
      "source": [
        "5. ists can contain any data type. A list can contain a mix of more than one data types. mixedList= [\"cereal\", 5, \"bread\", 3, \"oat\", 5]\n",
        "  * Open a new code cell and type this"
      ],
      "metadata": {
        "id": "4oFjrYUuHpnX"
      }
    },
    {
      "cell_type": "code",
      "source": [
        "mixedList = [\"cereal\", 5, \"bread\", 3, \"oat\", 8]\n",
        "print(mixedList)"
      ],
      "metadata": {
        "colab": {
          "base_uri": "https://localhost:8080/"
        },
        "id": "ykfpakAPIjn_",
        "outputId": "6db0db78-608b-4ee2-b6be-1c11c4b4c97a"
      },
      "execution_count": null,
      "outputs": [
        {
          "output_type": "stream",
          "name": "stdout",
          "text": [
            "['cereal', 5, 'bread', 3, 'oat', 8]\n"
          ]
        }
      ]
    },
    {
      "cell_type": "markdown",
      "source": [
        "6. List can also be concatenated using the \"+\" operator."
      ],
      "metadata": {
        "id": "yT_InnAq5FMW"
      }
    },
    {
      "cell_type": "code",
      "source": [
        "list1 = [\"cereal\", \"bread\",\"oat\"]\n",
        "list2 = [5, 3, 8]\n",
        "combined = list1 + list2\n",
        "print(combined)"
      ],
      "metadata": {
        "colab": {
          "base_uri": "https://localhost:8080/"
        },
        "id": "KpgZLY985LLw",
        "outputId": "6e312287-f2e4-4f5b-ae76-43cb1c61c02b"
      },
      "execution_count": null,
      "outputs": [
        {
          "output_type": "stream",
          "name": "stdout",
          "text": [
            "['cereal', 'bread', 'oat', 5, 3, 8]\n"
          ]
        }
      ]
    },
    {
      "cell_type": "markdown",
      "source": [
        "## List Practices\n"
      ],
      "metadata": {
        "id": "ox6xtQ4Zt5Bv"
      }
    },
    {
      "cell_type": "markdown",
      "source": [
        "1. Create a list of with four items inside.\n",
        "2. Print the length of the list\n",
        "3. Update this list by adding another item to it\n",
        "4. Remove an item from this list and print the new list\n",
        "5. Create two list, concatenate them and print the new list.\n"
      ],
      "metadata": {
        "id": "qu6DNyHmvbC3"
      }
    },
    {
      "cell_type": "markdown",
      "source": [
        "#Task 2: Dictionaries (Possible Skip)"
      ],
      "metadata": {
        "id": "K7ySHTs3JNHE"
      }
    },
    {
      "cell_type": "markdown",
      "source": [
        "##Note\n",
        "1. we will cover Dictionary creation, manipulation of dictionary in python(accessing dictionaries), Dictionary Keys, Restrictions in Dictionary.\n",
        "2. The students will encounter errors in this task. Let the student read the errors first to see how they react.\n",
        "3. This task is long because there is a lot to be done. We will need to take a break"
      ],
      "metadata": {
        "id": "n8ZvrGhVNQ-L"
      }
    },
    {
      "cell_type": "markdown",
      "source": [
        "## The Concept of Dictionaries\n",
        "\n",
        "Dictionary (10min)\n",
        "\n",
        "1. Teach the concept of Dictionaries\n",
        "Concept:\n",
        "Dictionaries are collections of items that have a “key” and a “value”. Think of it as a list except instead of having an assigned index number, you make up the index. Think of a dictionary as labelling category of item on your backpack with a unique \"label\" or \"key\" that identifies them. Dictionaries are mutable, meaning, it is changable when created.\n",
        "  * We use the curly brackets {} to construct the dictionary\n",
        "  * Dictionary uses a key and an associative value\n",
        "  * To look up a value, use its associated key, instead of the index.\n",
        "  * Keys are unique and cannot appear in the dictionary more than once.\n",
        "  * The use of colon is placed between key and value (key:value)\n",
        "  * Practice using key_value naming convention for dictionaries\n",
        "  for example fruit_colors where fruit(key) colors(value)\n",
        "\n",
        "\n",
        "\n",
        "\n"
      ],
      "metadata": {
        "id": "2Nr2fL2jgR3x"
      }
    },
    {
      "cell_type": "markdown",
      "source": [
        ":##Dictionary Creation\n",
        "\n",
        "\n",
        "1. Let us create our first dictionary. This dictionary will be an empty one. Open a code cell and type"
      ],
      "metadata": {
        "id": "rNU4zT-nob1P"
      }
    },
    {
      "cell_type": "code",
      "source": [
        "emptyDict = {}\n",
        "print (emptyDict) # An empty dictionary os printed"
      ],
      "metadata": {
        "colab": {
          "base_uri": "https://localhost:8080/"
        },
        "id": "4rOJ1I2NrHL6",
        "outputId": "c65a989b-7235-4e9c-fd74-80580db5f60a"
      },
      "execution_count": null,
      "outputs": [
        {
          "output_type": "stream",
          "name": "stdout",
          "text": [
            "{}\n"
          ]
        }
      ]
    },
    {
      "cell_type": "markdown",
      "source": [
        "*2*. Let us create a dictionary with three items that associate fruits with their colors.\n",
        " Type this code ona new code cell. fruit_color_dictionary = {\"apple\": \"red\", \"banana\": \"yellow\", \"orange\": \"orange\"}. Also print the dictionary using the print method."
      ],
      "metadata": {
        "id": "xB_hJ_mqrq-9"
      }
    },
    {
      "cell_type": "code",
      "source": [
        "fruit_color_dictionary = {\"apple\": \"red\", \"banana\": \"yellow\", \"orange\": \"orange\"}\n",
        "print (fruit_color_dictionary)"
      ],
      "metadata": {
        "colab": {
          "base_uri": "https://localhost:8080/"
        },
        "id": "nE4QAmlNus8l",
        "outputId": "e36f52cf-6830-41aa-bed7-a07ccba2d759"
      },
      "execution_count": null,
      "outputs": [
        {
          "output_type": "stream",
          "name": "stdout",
          "text": [
            "{'apple': 'red', 'banana': 'yellow', 'orange': 'orange'}\n"
          ]
        }
      ]
    },
    {
      "cell_type": "markdown",
      "source": [
        "2. Create a dictionary with five keys and values . Write this code on a code cell and examine the result."
      ],
      "metadata": {
        "id": "PjscYqtVv1-p"
      }
    },
    {
      "cell_type": "code",
      "source": [
        "word_definitions = {\n",
        "    \"apple\": \"A fruit with a red or green skin and a round shape.\",\n",
        "    \"book\": \"A written or printed work of fiction or non-fiction that is bound together.\",\n",
        "    \"car\": \"A vehicle with four wheels and an engine that is used for transportation.\",\n",
        "    \"dog\": \"A common household pet that is known for its loyalty and affection.\"\n",
        "}"
      ],
      "metadata": {
        "id": "TEA4pI-MrWWD"
      },
      "execution_count": null,
      "outputs": []
    },
    {
      "cell_type": "markdown",
      "source": [
        "##Accessing a Value from the Dictionary.\n",
        "\n",
        "1. To access dictionary elements, you can use the square brackets along with the key to obtain its value. A value is retrieved from a dictionary by specifying its corresponding key in square brackets ([]). We can use this to access the values as well.\n",
        "\n",
        "\n",
        "  \n",
        "\n",
        "\n",
        "\n"
      ],
      "metadata": {
        "id": "aP9Xf8IfsdoM"
      }
    },
    {
      "cell_type": "code",
      "source": [
        "print(word_definitions[\"book\"]) # Accessing the value (Austin) using the Key (Texas)"
      ],
      "metadata": {
        "colab": {
          "base_uri": "https://localhost:8080/"
        },
        "id": "xvFpCFhg2Er6",
        "outputId": "0db17790-ea0f-4633-edb3-81b57a7742b8"
      },
      "execution_count": null,
      "outputs": [
        {
          "output_type": "stream",
          "name": "stdout",
          "text": [
            "A written or printed work of fiction or non-fiction that is bound together.\n"
          ]
        }
      ]
    },
    {
      "cell_type": "markdown",
      "source": [
        "2. You can access all the keys in the dictionary state_capital.keys(). This will return all keys in the dictionary: state_capital"
      ],
      "metadata": {
        "id": "b7VjIkia2ucN"
      }
    },
    {
      "cell_type": "code",
      "source": [
        "word_definitions.keys()"
      ],
      "metadata": {
        "colab": {
          "base_uri": "https://localhost:8080/"
        },
        "id": "EjjWol3E5W9L",
        "outputId": "d831674b-3244-4e11-bdd9-028ca24b2cb3"
      },
      "execution_count": null,
      "outputs": [
        {
          "output_type": "execute_result",
          "data": {
            "text/plain": [
              "dict_keys(['apple', 'book', 'car', 'dog'])"
            ]
          },
          "metadata": {},
          "execution_count": 27
        }
      ]
    },
    {
      "cell_type": "markdown",
      "source": [
        "3. You can access all the values in the dictionary state_capital.values(). This will return all values in the dictionary: state_capital"
      ],
      "metadata": {
        "id": "0M71ppjx5wVe"
      }
    },
    {
      "cell_type": "code",
      "source": [
        "word_definitions.values() #returns all values in the dictionary"
      ],
      "metadata": {
        "colab": {
          "base_uri": "https://localhost:8080/"
        },
        "id": "tN5CAVcl6AVq",
        "outputId": "7b9e5fb2-2b9e-4cd6-8e3a-29fead554d46"
      },
      "execution_count": null,
      "outputs": [
        {
          "output_type": "execute_result",
          "data": {
            "text/plain": [
              "dict_values(['A fruit with a red or green skin and a round shape.', 'A written or printed work of fiction or non-fiction that is bound together.', 'A vehicle with four wheels and an engine that is used for transportation.', 'A common household pet that is known for its loyalty and affection.'])"
            ]
          },
          "metadata": {},
          "execution_count": 28
        }
      ]
    },
    {
      "cell_type": "markdown",
      "source": [
        "4. We can deleted value from the dictionary. To delete an entry, use the del statement, specifying the key to delete:"
      ],
      "metadata": {
        "id": "HCDRk-2S6INw"
      }
    },
    {
      "cell_type": "code",
      "source": [
        "del word_definitions[\"car\"]\n",
        "print(word_definitions) # Notice that Texas has been deleted from our dictionary"
      ],
      "metadata": {
        "colab": {
          "base_uri": "https://localhost:8080/"
        },
        "id": "tPZbddWN7vdb",
        "outputId": "48b9faf4-b55c-460a-f1ba-f468f633ea9d"
      },
      "execution_count": null,
      "outputs": [
        {
          "output_type": "stream",
          "name": "stdout",
          "text": [
            "{'apple': 'A fruit with a red or green skin and a round shape.', 'book': 'A written or printed work of fiction or non-fiction that is bound together.', 'dog': 'A common household pet that is known for its loyalty and affection.'}\n"
          ]
        }
      ]
    },
    {
      "cell_type": "markdown",
      "source": [
        "5. We can also make an entry into the dictionary . This could be done using the"
      ],
      "metadata": {
        "id": "ZRnCozMZCU4Y"
      }
    },
    {
      "cell_type": "markdown",
      "source": [
        "# Task 3: Loops"
      ],
      "metadata": {
        "id": "KA2dUD35yJMH"
      }
    },
    {
      "cell_type": "markdown",
      "source": [
        "## The Concept of loops\n",
        "\n",
        "1. Loops are programming structures that let you run a block of code repeatedly depending on one or more conditions. They are frequently used for repetitive tasks like processing massive amounts of data or carrying out a series of calculations.\n",
        "\n",
        "2.  In Python, \"for loops\" and \"while loops\" are the two primary types of loops.\n",
        "3.  To define the code blocks in Python loops, indentation is essential.\n",
        "4.  You can have one loop contained in another loop, which is called a nested loop\n",
        "5. Be careful with loops, as they can run infinitely.\n",
        "6. You can manage the loop's flow with loop control statements. The break, continue, and return loop control statements are the most popular.\n",
        "\n",
        "\n"
      ],
      "metadata": {
        "id": "t7hA3HxTd7kR"
      }
    },
    {
      "cell_type": "markdown",
      "source": [
        "## 'For' Loop:\n",
        "\n",
        "A 'for' loop is used to iterate over a sequence of elements. This elements could be string, list, dictionary."
      ],
      "metadata": {
        "id": "ivAszW-jqk_v"
      }
    },
    {
      "cell_type": "markdown",
      "source": [
        "### For loop to iterate over a list"
      ],
      "metadata": {
        "id": "a8fofbqT88fK"
      }
    },
    {
      "cell_type": "markdown",
      "source": [
        "1. Have students imagine the syntax of a 'for' loop in Python. This can be explained to them. (No neeed to code this)\n",
        "Imagine that you have a list of tasks to complete, and you want to go through each task one by one. In Python, a 'for' loop helps you do this in a structured way. The loop will go through each item in a sequence (like a list), and for each item, it will execute the code inside the loop."
      ],
      "metadata": {
        "id": "X665gInWq-qH"
      }
    },
    {
      "cell_type": "code",
      "source": [
        "for item in list:\n",
        "    # code to be executed      ##Each value in the \"sequence\" is assigned to the \"variable\" in this loop one at a time, and the loop's code is then run for each value."
      ],
      "metadata": {
        "id": "Brgts6Azi_gC"
      },
      "execution_count": null,
      "outputs": []
    },
    {
      "cell_type": "markdown",
      "source": [
        "2. A common use of for loop is to access each element in a list\n",
        "\n",
        "In the following, we access each element in the list \"foods\" using for loop. The \"food\" variable is used to store the value of the current item being accessed."
      ],
      "metadata": {
        "id": "NXBYdtD1j3C6"
      }
    },
    {
      "cell_type": "code",
      "source": [
        "foods = [\"rice\", \"cheese\", \"egg\", \"potatoes\"]\n",
        "for food in foods: # explain that food is a temp variable that takes the place of items in the list each loop it changes\n",
        "    print(food)"
      ],
      "metadata": {
        "colab": {
          "base_uri": "https://localhost:8080/"
        },
        "id": "NifKbxHZrmHJ",
        "outputId": "e2907ef1-7e17-425c-8219-8d83ccf341f2"
      },
      "execution_count": null,
      "outputs": [
        {
          "output_type": "stream",
          "name": "stdout",
          "text": [
            "rice\n",
            "cheese\n",
            "egg\n",
            "potatoes\n"
          ]
        }
      ]
    },
    {
      "cell_type": "markdown",
      "source": [
        "if student learned dictionaries, also type the following code"
      ],
      "metadata": {
        "id": "hzzItZQp9r17"
      }
    },
    {
      "cell_type": "code",
      "source": [
        "for fruit in fruit_color_dictionary:\n",
        "  print(fruit)"
      ],
      "metadata": {
        "colab": {
          "base_uri": "https://localhost:8080/"
        },
        "id": "lPLNWYxc9j6M",
        "outputId": "f826f168-9654-48f0-c906-027c5e185502"
      },
      "execution_count": null,
      "outputs": [
        {
          "output_type": "stream",
          "name": "stdout",
          "text": [
            "apple\n",
            "banana\n",
            "orange\n"
          ]
        }
      ]
    },
    {
      "cell_type": "markdown",
      "source": [
        "3. For loop can also iterate over a string. A string is essentially a list of characters.\n",
        "\n",
        "Ask students to create a variable and assign their first name to it. Then write a 'for' loop to print each character/letter in the variable."
      ],
      "metadata": {
        "id": "T-0BsjqYEFQn"
      }
    },
    {
      "cell_type": "code",
      "source": [
        "name = \"my_first_name\"\n",
        "for character in name:\n",
        "  print (character)"
      ],
      "metadata": {
        "colab": {
          "base_uri": "https://localhost:8080/"
        },
        "id": "f1qxKzNqEoyJ",
        "outputId": "d3031887-8739-4d60-af6a-e2edf6185a96"
      },
      "execution_count": null,
      "outputs": [
        {
          "output_type": "stream",
          "name": "stdout",
          "text": [
            "m\n",
            "y\n",
            "_\n",
            "f\n",
            "i\n",
            "r\n",
            "s\n",
            "t\n",
            "_\n",
            "n\n",
            "a\n",
            "m\n",
            "e\n"
          ]
        }
      ]
    },
    {
      "cell_type": "markdown",
      "source": [
        "### For loop to iterate over a range of numbers"
      ],
      "metadata": {
        "id": "blRd0d3v93Ev"
      }
    },
    {
      "cell_type": "markdown",
      "source": [
        "Using a function called \"range\", for loop can iterate over a range of integers\n",
        "\n",
        "For example range(10) is translated to 0, 1, 2, 3, ... 9.\n",
        "\n",
        "Note that it counts 10 numbers, but starting from 0, and ends at 9"
      ],
      "metadata": {
        "id": "QqWSJnea-JmI"
      }
    },
    {
      "cell_type": "markdown",
      "source": [
        "\n",
        "> Before explaining the output of this code. Ask students to read the code and point out why the output is that way\n",
        "\n",
        "> Explain to students while the output printed 0 to 9: range () function is used to create a sequence of numbers.\n",
        "\n",
        "> Explain to students that 'i' used here could be any variable. Here, the sequence is repeated, giving the variable 'i' a new value for each iteration.\n",
        "\n",
        "> The code contained within the loop, which in this case consists of a single statement that outputs the value of I as it is right now, is run once for each iteration.\n",
        "\n",
        "\n",
        "\n"
      ],
      "metadata": {
        "id": "dYz9BGIllmmI"
      }
    },
    {
      "cell_type": "code",
      "source": [
        "start=0\n",
        "finish=10 #up untill 10 wont include 10\n",
        "\n",
        "for number in range(start, finish):\n",
        "    print(number)"
      ],
      "metadata": {
        "colab": {
          "base_uri": "https://localhost:8080/"
        },
        "id": "m5yeN2dRlVPS",
        "outputId": "c9967e5e-2843-4ae7-dafb-6d93d26f35a5"
      },
      "execution_count": null,
      "outputs": [
        {
          "output_type": "stream",
          "name": "stdout",
          "text": [
            "0\n",
            "1\n",
            "2\n",
            "3\n",
            "4\n",
            "5\n",
            "6\n",
            "7\n",
            "8\n",
            "9\n"
          ]
        }
      ]
    },
    {
      "cell_type": "markdown",
      "source": [
        "(REMOVE IF WE CAN BUT IF NOT USE START FINISH TO MAKE IT EASIER)\n",
        "3. For loops over a range of numbers are also usually used to access\n",
        "\n",
        "*   List item\n",
        "*   List item\n",
        "\n",
        "lists. Here, the i variable is typically used as the index to access list items"
      ],
      "metadata": {
        "id": "FXhTnTA9rc-G"
      }
    },
    {
      "cell_type": "code",
      "source": [
        "# Set the start variable to 0, indicating the first index of the list\n",
        "start = 0\n",
        "# Set the finish variable to the length of the 'foods' list, indicating the last index of the list plus one\n",
        "finish = len(foods)\n",
        "# Use a for loop to iterate through the range of indices from 'start' to 'finish' (not including 'finish')\n",
        "for X in range(start, finish):\n",
        "    # Print the food item at the current index 'i'\n",
        "    print(foods[X])"
      ],
      "metadata": {
        "colab": {
          "base_uri": "https://localhost:8080/"
        },
        "id": "Oh9_bABT_pnj",
        "outputId": "b952ad5a-5175-471a-95f4-81710fefee69"
      },
      "execution_count": null,
      "outputs": [
        {
          "output_type": "stream",
          "name": "stdout",
          "text": [
            "rice\n",
            "cheese\n",
            "egg\n",
            "potatoes\n"
          ]
        }
      ]
    },
    {
      "cell_type": "markdown",
      "source": [
        "4. With for loop iterating over a list, we can perform some \"aggregation\" type operations on the list item.\n",
        "\n",
        "For example, we can compute the sum of a list of numbers"
      ],
      "metadata": {
        "id": "jLF_FBcjBjam"
      }
    },
    {
      "cell_type": "code",
      "source": [
        "nums = [2, 4, 6, 7, 8]\n",
        "sum = 0\n",
        "for n in nums:\n",
        "  sum = sum + n\n",
        "\n",
        "print(sum)"
      ],
      "metadata": {
        "colab": {
          "base_uri": "https://localhost:8080/"
        },
        "id": "QZatau_BCROQ",
        "outputId": "446ec345-9d40-4ee9-a535-ce77de3b0f26"
      },
      "execution_count": null,
      "outputs": [
        {
          "output_type": "stream",
          "name": "stdout",
          "text": [
            "27\n"
          ]
        }
      ]
    },
    {
      "cell_type": "markdown",
      "source": [
        "**Ask** the student to convert the above sum with the range function. They can do an in-place rewrite of the above cell."
      ],
      "metadata": {
        "id": "wDTRiAkNCs1F"
      }
    },
    {
      "cell_type": "code",
      "source": [
        "nums = [2, 4, 6, 7, 8]\n",
        "list_length = len(nums)\n",
        "sum = 0\n",
        "for i in range(list_length):\n",
        "  sum = sum + nums[i]\n",
        "\n",
        "print(sum)"
      ],
      "metadata": {
        "colab": {
          "base_uri": "https://localhost:8080/"
        },
        "id": "SFonBXHNCfQ3",
        "outputId": "448d72f2-718e-45b6-c933-26e096c469da"
      },
      "execution_count": null,
      "outputs": [
        {
          "output_type": "stream",
          "name": "stdout",
          "text": [
            "27\n"
          ]
        }
      ]
    },
    {
      "cell_type": "markdown",
      "source": [
        "**This step is optional to teach**\n",
        "\n",
        "5. The \"range\" function can do more than just iterating one at a time.\n",
        "\n",
        "It can iterate with any beginning number, at any steps, and ends at any ending number.\n",
        "\n",
        "For example, if we count from 1 to 10, with a step of 2, we would have,\n",
        "1, 3, 5, 7, 9"
      ],
      "metadata": {
        "id": "GY9zv2KcusIq"
      }
    },
    {
      "cell_type": "code",
      "source": [
        "start = 0\n",
        "end = 10 #  end - 1\n",
        "\n",
        "\n",
        "for X in range(start, end):\n",
        "  print(X)"
      ],
      "metadata": {
        "colab": {
          "base_uri": "https://localhost:8080/"
        },
        "id": "jM1w8AqIuwCT",
        "outputId": "4e25311f-687a-409d-94c4-bf76c627f8db"
      },
      "execution_count": null,
      "outputs": [
        {
          "output_type": "stream",
          "name": "stdout",
          "text": [
            "0\n",
            "1\n",
            "2\n",
            "3\n",
            "4\n",
            "5\n",
            "6\n",
            "7\n",
            "8\n",
            "9\n"
          ]
        }
      ]
    },
    {
      "cell_type": "markdown",
      "source": [
        "What happens if we change the end to 11? i.e.,\n",
        "\n",
        "\n",
        "```\n",
        "end = 11\n",
        "```\n",
        "\n",
        "Run the following code to find out.\n",
        "\n",
        "Explanation:\n",
        "\n",
        "Range stops at end-1, so end=11 means stops at 10,\n",
        "and end=10 means stops at 9"
      ],
      "metadata": {
        "id": "3EZ_qyPVXS-c"
      }
    },
    {
      "cell_type": "code",
      "source": [
        "begin = 1\n",
        "end = 11\n",
        "step = 2\n",
        "\n",
        "for i in range(begin, end, step):\n",
        "  print(i)"
      ],
      "metadata": {
        "colab": {
          "base_uri": "https://localhost:8080/"
        },
        "id": "J3_PvwFpXghO",
        "outputId": "c0924b9e-e831-4b56-dc9c-de9f17d07ce2"
      },
      "execution_count": null,
      "outputs": [
        {
          "output_type": "stream",
          "name": "stdout",
          "text": [
            "1\n",
            "3\n",
            "5\n",
            "7\n",
            "9\n"
          ]
        }
      ]
    },
    {
      "cell_type": "markdown",
      "source": [
        "##'While' loop **(skip)**\n",
        "\n",
        "A while loop is used to repeatedly execute a block of code **as long as a specified condition is true**. Think of it as playing an entire playlist (non-stop)of an album as long as the condition specified is true.\n"
      ],
      "metadata": {
        "id": "pZI9yx7pA2VA"
      }
    },
    {
      "cell_type": "markdown",
      "source": [
        "1. Have students imagine the syntax of a 'while' loop in Python. This can be explained to them. (No neeed to code this)."
      ],
      "metadata": {
        "id": "UjdgjCt9B-I4"
      }
    },
    {
      "cell_type": "code",
      "source": [
        "while condition:\n",
        "    # code to be executed  #Each iteration begins with a check of the \"condition,\" and the loop keeps running as long as the condition is still true.\n"
      ],
      "metadata": {
        "id": "pgPvMRZSDIRw"
      },
      "execution_count": null,
      "outputs": []
    },
    {
      "cell_type": "markdown",
      "source": [
        "2. Write a simple 'while' loop code by typing and executing the following code on a new code cell.\n",
        "\n",
        "\n",
        "\n",
        "\n"
      ],
      "metadata": {
        "id": "n-nHWICDDYXN"
      }
    },
    {
      "cell_type": "code",
      "source": [
        "count = 0\n",
        "while count <= 10:\n",
        "    print(count)\n",
        "    count += 1\n",
        ""
      ],
      "metadata": {
        "colab": {
          "base_uri": "https://localhost:8080/"
        },
        "id": "2Aotmwb8Do3K",
        "outputId": "927df365-ba32-4c6b-8672-5d2621ed8e3f"
      },
      "execution_count": null,
      "outputs": [
        {
          "output_type": "stream",
          "name": "stdout",
          "text": [
            "0\n",
            "1\n",
            "2\n",
            "3\n",
            "4\n",
            "5\n",
            "6\n",
            "7\n",
            "8\n",
            "9\n",
            "10\n"
          ]
        }
      ]
    },
    {
      "cell_type": "markdown",
      "source": [
        "\n",
        "> Before explaining the output of this code. Ask students to read the code and point out why the output is that way\n",
        "\n",
        "> We specified the loop's start value which is 1.\n",
        "\n",
        "> if 'i' is less than or equal to 10, the code block is then executed.\n",
        "\n",
        "> The code block increments 'i' by 1 after printing the value of i.\n",
        "\n",
        "> In each iteration, the function prints the value of 'i' and then increases 'i' by 1.\n",
        "\n",
        "> The while loop uses the += operator to end when the condition becomes false.\n",
        "\n",
        "\n",
        "\n",
        "\n"
      ],
      "metadata": {
        "id": "n3mRZ4TLFM0h"
      }
    },
    {
      "cell_type": "markdown",
      "source": [
        "3. Write a simple 'while' loop code by typing and executing the following code on a new code cell.\n",
        "\n"
      ],
      "metadata": {
        "id": "BPT1qgHbHOIH"
      }
    },
    {
      "cell_type": "code",
      "source": [
        "counterIndex = 0\n",
        "while counterIndex <= len(foods)-1:\n",
        "    print(foods[counterIndex])\n",
        "    counterIndex += 1"
      ],
      "metadata": {
        "colab": {
          "base_uri": "https://localhost:8080/"
        },
        "id": "Lo1KRJdDIHZ5",
        "outputId": "c7237e4f-e9d9-476e-f6f0-b44b23e7031b"
      },
      "execution_count": null,
      "outputs": [
        {
          "output_type": "stream",
          "name": "stdout",
          "text": [
            "rice\n",
            "cheese\n",
            "egg\n",
            "potatoes\n"
          ]
        }
      ]
    },
    {
      "cell_type": "markdown",
      "source": [
        "4. All for loops with range function can be converted to while loop by checking if the variable i has reach the \"maximum\". For example, with the following code, we use\n",
        "\n",
        "```\n",
        "counter = 0\n",
        "```\n",
        "to specify the beginning number\n",
        "\n",
        "\n",
        "\n",
        "```\n",
        "counter < list_length\n",
        "```\n",
        "to specify the end\n",
        "\n",
        "\n",
        "\n",
        "```\n",
        "counter = counter + 1\n",
        "```\n",
        "to increment i at the end of each iteration\n",
        "\n",
        "\n",
        "\n",
        "\n",
        "\n"
      ],
      "metadata": {
        "id": "MVJt1nrCYGcm"
      }
    },
    {
      "cell_type": "code",
      "source": [
        "nums = [2, 4, 6, 7, 8]\n",
        "list_length = len(nums)\n",
        "sum = 0\n",
        "i = 0\n",
        "while i<list_length:\n",
        "  sum = sum + nums[i]\n",
        "  i = i + 1\n",
        "\n",
        "print(sum)"
      ],
      "metadata": {
        "colab": {
          "base_uri": "https://localhost:8080/"
        },
        "id": "thVjcxOzYTLk",
        "outputId": "a735cef2-47bd-4f00-963a-c26d9be3b24e"
      },
      "execution_count": null,
      "outputs": [
        {
          "output_type": "stream",
          "name": "stdout",
          "text": [
            "27\n"
          ]
        }
      ]
    },
    {
      "cell_type": "markdown",
      "source": [
        "#Task 4: Fun practice with loops (30mins)\n",
        "\n",
        "Fun Program: Guess the Number Game (with start, finish, change)\n",
        "\n",
        "When playing the Guess the Number game, use the start, finish, and change strategy.\n",
        "\n",
        "You can let the students choose the game's parameters, including its range and the number of attempts.\n",
        "\n"
      ],
      "metadata": {
        "id": "yhH1k9I-Ibvz"
      }
    },
    {
      "cell_type": "markdown",
      "source": [
        "##Step 1: importing the required modules\n",
        "\n",
        "\n",
        "> Here, we import the python libary responsible for randomization of numbers\n",
        "\n"
      ],
      "metadata": {
        "id": "lC31pFlO6Lx0"
      }
    },
    {
      "cell_type": "code",
      "source": [
        "import random"
      ],
      "metadata": {
        "id": "zLxpuqXkJqqx"
      },
      "execution_count": null,
      "outputs": []
    },
    {
      "cell_type": "markdown",
      "source": [
        "## Step 2: Using start, finish, and change, specify the range and maximum number of tries."
      ],
      "metadata": {
        "id": "CtDhzTRLJzzK"
      }
    },
    {
      "cell_type": "code",
      "source": [
        "start = 1\n",
        "finish = 10\n",
        "max_attempts = 5\n",
        "attempts = 0"
      ],
      "metadata": {
        "id": "ofztm9VFKWGO"
      },
      "execution_count": null,
      "outputs": []
    },
    {
      "cell_type": "markdown",
      "source": [
        "## Step 3: Generate a random number\n",
        "Produce/generate a random number"
      ],
      "metadata": {
        "id": "1kc866htKoLl"
      }
    },
    {
      "cell_type": "code",
      "source": [
        "random_number = random.randint(start, finish) #range between 1 and 50\n"
      ],
      "metadata": {
        "id": "iDWuNhXXK8YH"
      },
      "execution_count": null,
      "outputs": []
    },
    {
      "cell_type": "markdown",
      "source": [
        "## Step 4: Print out the greeting.\n"
      ],
      "metadata": {
        "id": "1fREYOYpOd9v"
      }
    },
    {
      "cell_type": "code",
      "source": [
        "print(\"Hello and welcome to Guess the Number!!\")\n",
        "print(\"There is a number that I'm thinking of between \" + str(start) + \" and \" + str (finish) + \".\")\n",
        "print(\"You have \" + str(max_attempts) + \" attempts to guess the number.\")"
      ],
      "metadata": {
        "colab": {
          "base_uri": "https://localhost:8080/"
        },
        "id": "Jg1cNckMQiTs",
        "outputId": "03e2360f-f175-4bbf-c554-66b5a584974b"
      },
      "execution_count": null,
      "outputs": [
        {
          "output_type": "stream",
          "name": "stdout",
          "text": [
            "Hello and welcome to Guess the Number!!\n",
            "There is a number that I'm thinking of between 1 and 10.\n",
            "You have 5 attempts to guess the number.\n"
          ]
        }
      ]
    },
    {
      "cell_type": "markdown",
      "source": [
        "## Step 5: Initialize the number of attempts\n"
      ],
      "metadata": {
        "id": "EIAXf2dHRkgs"
      }
    },
    {
      "cell_type": "markdown",
      "source": [
        "## Step 6: Start the loop\n"
      ],
      "metadata": {
        "id": "jcyZZCZKR7J4"
      }
    },
    {
      "cell_type": "code",
      "source": [
        "while attempts < max_attempts:\n",
        "    attempts=attempts+1\n",
        "  # Step 7: Get the user's guess\n",
        "    guess = int(input(\"Enter your guess: \"))\n",
        "\n",
        "    # Step 8: Check if the guess is correct\n",
        "    if guess == random_number:\n",
        "        print(\"Congratulations! You guessed the number in \" + str(attempts) + \" attempts.\")\n",
        "        break\n",
        "    elif guess < random_number:\n",
        "        print(\"Your guess is too low.\")\n",
        "    else:\n",
        "        print(\"Your guess is too high.\")\n",
        "\n",
        "# Step 9: Print the game over message\n",
        "if attempts == max_attempts:\n",
        "  print(\"Game Over! The number is \", random_number)"
      ],
      "metadata": {
        "colab": {
          "base_uri": "https://localhost:8080/"
        },
        "id": "vTs44W5JSFu2",
        "outputId": "b1741c53-99a9-4c38-d52f-9a57720dccb8"
      },
      "execution_count": null,
      "outputs": [
        {
          "output_type": "stream",
          "name": "stdout",
          "text": [
            "Enter your guess: 5\n",
            "Your guess is too high.\n",
            "Enter your guess: 3\n",
            "Your guess is too high.\n",
            "Enter your guess: 2\n",
            "Congratulations! You guessed the number in 3 attempts.\n"
          ]
        }
      ]
    },
    {
      "cell_type": "code",
      "source": [
        "#Complete Program\n",
        "\n",
        "import random\n",
        "start = 1\n",
        "finish = 10\n",
        "max_attempts = 5\n",
        "\n",
        "random_number = random.randint(start, finish) #range between 1 and 10\n",
        "print(random_number)\n",
        "attempts = 0\n",
        "\n",
        "print(\"Hello and welcome to Guess the Number!!\")\n",
        "print(\"There is a number that I'm thinking of between \" + str(start) + \" and \" + str (finish) + \".\")\n",
        "print(\"You have \" + str(max_attempts) + \" attempts to guess the number.\")\n",
        "while attempts < max_attempts:\n",
        "    attempts=attempts+1\n",
        "  # Step 7: Get the user's guess\n",
        "    guess = int(input(\"Enter your guess: \"))\n",
        "\n",
        "    # Step 8: Check if the guess is correct\n",
        "    if guess == random_number:\n",
        "        print(\"Congratulations! You guessed the number in \" + str(attempts) + \" attempts.\")\n",
        "        break\n",
        "    elif guess < random_number:\n",
        "        print(\"Your guess is too low.\")\n",
        "    else:\n",
        "        print(\"Your guess is too high.\")\n",
        "\n",
        "# Step 9: Print the game over message\n",
        "if attempts == max_attempts:\n",
        "  print(\"Game Over! The number is \", random_number)\n",
        "\n"
      ],
      "metadata": {
        "colab": {
          "base_uri": "https://localhost:8080/"
        },
        "id": "E7U4nB_USaWG",
        "outputId": "222abdbb-6768-495d-cb7c-759059d5e8e6"
      },
      "execution_count": null,
      "outputs": [
        {
          "output_type": "stream",
          "name": "stdout",
          "text": [
            "6\n",
            "Hello and welcome to Guess the Number!!\n",
            "There is a number that I'm thinking of between 1 and 10.\n",
            "You have 5 attempts to guess the number.\n",
            "Enter your guess: 1\n",
            "Your guess is too low.\n",
            "Enter your guess: 1\n",
            "Your guess is too low.\n",
            "Enter your guess: 1\n",
            "Your guess is too low.\n",
            "Enter your guess: 1\n",
            "Your guess is too low.\n",
            "Enter your guess: 1\n",
            "Your guess is too low.\n",
            "Game Over! The number is  6\n"
          ]
        }
      ]
    },
    {
      "cell_type": "code",
      "source": [
        "!pip install pydub\n",
        "!apt-get install ffmpeg\n",
        "\n",
        "\n",
        "import random\n",
        "from gtts import gTTS\n",
        "from pydub import AudioSegment\n",
        "from pydub.playback import play\n",
        "import io\n",
        "\n",
        "def play_text(text):\n",
        "    tts = gTTS(text=text, lang='en')\n",
        "\n",
        "    with io.BytesIO() as audio_file:\n",
        "        tts.write_to_fp(audio_file)\n",
        "        audio_file.seek(0)\n",
        "        audio_segment = AudioSegment.from_file(audio_file, format=\"mp3\")\n",
        "\n",
        "    play(audio_segment)\n",
        "\n",
        "subjects = ['A frog', 'An elephant', 'A rabbit']\n",
        "actions = ['flew above', 'crawled under', 'swam around']\n",
        "objects = ['a rainbow', 'a giant rock', 'a sleeping dragon']\n",
        "\n",
        "story = []\n",
        "\n",
        "for i in range(5):\n",
        "    subject = random.choice(subjects)\n",
        "    action = random.choice(actions)\n",
        "    obj = random.choice(objects)\n",
        "    sentence = f\"{subject} {action} {obj}.\"\n",
        "    story.append(sentence)\n",
        "\n",
        "story_text = \" \".join(story)\n",
        "print(story_text)\n",
        "play_text(story_text)\n",
        "\n",
        "\n"
      ],
      "metadata": {
        "colab": {
          "base_uri": "https://localhost:8080/",
          "height": 611
        },
        "id": "vX-RXmGbeK1Z",
        "outputId": "afa6b6c3-0e88-45d3-c0bf-388afd757489"
      },
      "execution_count": null,
      "outputs": [
        {
          "output_type": "stream",
          "name": "stdout",
          "text": [
            "Looking in indexes: https://pypi.org/simple, https://us-python.pkg.dev/colab-wheels/public/simple/\n",
            "Collecting pydub\n",
            "  Downloading pydub-0.25.1-py2.py3-none-any.whl (32 kB)\n",
            "Installing collected packages: pydub\n",
            "Successfully installed pydub-0.25.1\n",
            "Reading package lists... Done\n",
            "Building dependency tree       \n",
            "Reading state information... Done\n",
            "ffmpeg is already the newest version (7:4.2.7-0ubuntu0.1).\n",
            "^C\n",
            "An elephant swam around a rainbow. A frog flew above a sleeping dragon. An elephant crawled under a rainbow. A rabbit swam around a sleeping dragon. A rabbit flew above a sleeping dragon.\n"
          ]
        },
        {
          "output_type": "error",
          "ename": "KeyboardInterrupt",
          "evalue": "ignored",
          "traceback": [
            "\u001b[0;31m---------------------------------------------------------------------------\u001b[0m",
            "\u001b[0;31mKeyboardInterrupt\u001b[0m                         Traceback (most recent call last)",
            "\u001b[0;32m<ipython-input-12-44cad7acad54>\u001b[0m in \u001b[0;36m<cell line: 36>\u001b[0;34m()\u001b[0m\n\u001b[1;32m     34\u001b[0m \u001b[0mstory_text\u001b[0m \u001b[0;34m=\u001b[0m \u001b[0;34m\" \"\u001b[0m\u001b[0;34m.\u001b[0m\u001b[0mjoin\u001b[0m\u001b[0;34m(\u001b[0m\u001b[0mstory\u001b[0m\u001b[0;34m)\u001b[0m\u001b[0;34m\u001b[0m\u001b[0;34m\u001b[0m\u001b[0m\n\u001b[1;32m     35\u001b[0m \u001b[0mprint\u001b[0m\u001b[0;34m(\u001b[0m\u001b[0mstory_text\u001b[0m\u001b[0;34m)\u001b[0m\u001b[0;34m\u001b[0m\u001b[0;34m\u001b[0m\u001b[0m\n\u001b[0;32m---> 36\u001b[0;31m \u001b[0mplay_text\u001b[0m\u001b[0;34m(\u001b[0m\u001b[0mstory_text\u001b[0m\u001b[0;34m)\u001b[0m\u001b[0;34m\u001b[0m\u001b[0;34m\u001b[0m\u001b[0m\n\u001b[0m\u001b[1;32m     37\u001b[0m \u001b[0;34m\u001b[0m\u001b[0m\n\u001b[1;32m     38\u001b[0m \u001b[0;34m\u001b[0m\u001b[0m\n",
            "\u001b[0;32m<ipython-input-12-44cad7acad54>\u001b[0m in \u001b[0;36mplay_text\u001b[0;34m(text)\u001b[0m\n\u001b[1;32m     15\u001b[0m         \u001b[0mtts\u001b[0m\u001b[0;34m.\u001b[0m\u001b[0mwrite_to_fp\u001b[0m\u001b[0;34m(\u001b[0m\u001b[0maudio_file\u001b[0m\u001b[0;34m)\u001b[0m\u001b[0;34m\u001b[0m\u001b[0;34m\u001b[0m\u001b[0m\n\u001b[1;32m     16\u001b[0m         \u001b[0maudio_file\u001b[0m\u001b[0;34m.\u001b[0m\u001b[0mseek\u001b[0m\u001b[0;34m(\u001b[0m\u001b[0;36m0\u001b[0m\u001b[0;34m)\u001b[0m\u001b[0;34m\u001b[0m\u001b[0;34m\u001b[0m\u001b[0m\n\u001b[0;32m---> 17\u001b[0;31m         \u001b[0maudio_segment\u001b[0m \u001b[0;34m=\u001b[0m \u001b[0mAudioSegment\u001b[0m\u001b[0;34m.\u001b[0m\u001b[0mfrom_file\u001b[0m\u001b[0;34m(\u001b[0m\u001b[0maudio_file\u001b[0m\u001b[0;34m,\u001b[0m \u001b[0mformat\u001b[0m\u001b[0;34m=\u001b[0m\u001b[0;34m\"mp3\"\u001b[0m\u001b[0;34m)\u001b[0m\u001b[0;34m\u001b[0m\u001b[0;34m\u001b[0m\u001b[0m\n\u001b[0m\u001b[1;32m     18\u001b[0m \u001b[0;34m\u001b[0m\u001b[0m\n\u001b[1;32m     19\u001b[0m     \u001b[0mplay\u001b[0m\u001b[0;34m(\u001b[0m\u001b[0maudio_segment\u001b[0m\u001b[0;34m)\u001b[0m\u001b[0;34m\u001b[0m\u001b[0;34m\u001b[0m\u001b[0m\n",
            "\u001b[0;32m/usr/local/lib/python3.10/dist-packages/pydub/audio_segment.py\u001b[0m in \u001b[0;36mfrom_file\u001b[0;34m(cls, file, format, codec, parameters, start_second, duration, **kwargs)\u001b[0m\n\u001b[1;32m    726\u001b[0m             \u001b[0minfo\u001b[0m \u001b[0;34m=\u001b[0m \u001b[0;32mNone\u001b[0m\u001b[0;34m\u001b[0m\u001b[0;34m\u001b[0m\u001b[0m\n\u001b[1;32m    727\u001b[0m         \u001b[0;32melse\u001b[0m\u001b[0;34m:\u001b[0m\u001b[0;34m\u001b[0m\u001b[0;34m\u001b[0m\u001b[0m\n\u001b[0;32m--> 728\u001b[0;31m             \u001b[0minfo\u001b[0m \u001b[0;34m=\u001b[0m \u001b[0mmediainfo_json\u001b[0m\u001b[0;34m(\u001b[0m\u001b[0morig_file\u001b[0m\u001b[0;34m,\u001b[0m \u001b[0mread_ahead_limit\u001b[0m\u001b[0;34m=\u001b[0m\u001b[0mread_ahead_limit\u001b[0m\u001b[0;34m)\u001b[0m\u001b[0;34m\u001b[0m\u001b[0;34m\u001b[0m\u001b[0m\n\u001b[0m\u001b[1;32m    729\u001b[0m         \u001b[0;32mif\u001b[0m \u001b[0minfo\u001b[0m\u001b[0;34m:\u001b[0m\u001b[0;34m\u001b[0m\u001b[0;34m\u001b[0m\u001b[0m\n\u001b[1;32m    730\u001b[0m             audio_streams = [x for x in info['streams']\n",
            "\u001b[0;32m/usr/local/lib/python3.10/dist-packages/pydub/utils.py\u001b[0m in \u001b[0;36mmediainfo_json\u001b[0;34m(filepath, read_ahead_limit)\u001b[0m\n\u001b[1;32m    273\u001b[0m     \u001b[0mcommand\u001b[0m \u001b[0;34m=\u001b[0m \u001b[0;34m[\u001b[0m\u001b[0mprober\u001b[0m\u001b[0;34m,\u001b[0m \u001b[0;34m'-of'\u001b[0m\u001b[0;34m,\u001b[0m \u001b[0;34m'json'\u001b[0m\u001b[0;34m]\u001b[0m \u001b[0;34m+\u001b[0m \u001b[0mcommand_args\u001b[0m\u001b[0;34m\u001b[0m\u001b[0;34m\u001b[0m\u001b[0m\n\u001b[1;32m    274\u001b[0m     \u001b[0mres\u001b[0m \u001b[0;34m=\u001b[0m \u001b[0mPopen\u001b[0m\u001b[0;34m(\u001b[0m\u001b[0mcommand\u001b[0m\u001b[0;34m,\u001b[0m \u001b[0mstdin\u001b[0m\u001b[0;34m=\u001b[0m\u001b[0mstdin_parameter\u001b[0m\u001b[0;34m,\u001b[0m \u001b[0mstdout\u001b[0m\u001b[0;34m=\u001b[0m\u001b[0mPIPE\u001b[0m\u001b[0;34m,\u001b[0m \u001b[0mstderr\u001b[0m\u001b[0;34m=\u001b[0m\u001b[0mPIPE\u001b[0m\u001b[0;34m)\u001b[0m\u001b[0;34m\u001b[0m\u001b[0;34m\u001b[0m\u001b[0m\n\u001b[0;32m--> 275\u001b[0;31m     \u001b[0moutput\u001b[0m\u001b[0;34m,\u001b[0m \u001b[0mstderr\u001b[0m \u001b[0;34m=\u001b[0m \u001b[0mres\u001b[0m\u001b[0;34m.\u001b[0m\u001b[0mcommunicate\u001b[0m\u001b[0;34m(\u001b[0m\u001b[0minput\u001b[0m\u001b[0;34m=\u001b[0m\u001b[0mstdin_data\u001b[0m\u001b[0;34m)\u001b[0m\u001b[0;34m\u001b[0m\u001b[0;34m\u001b[0m\u001b[0m\n\u001b[0m\u001b[1;32m    276\u001b[0m     \u001b[0moutput\u001b[0m \u001b[0;34m=\u001b[0m \u001b[0moutput\u001b[0m\u001b[0;34m.\u001b[0m\u001b[0mdecode\u001b[0m\u001b[0;34m(\u001b[0m\u001b[0;34m\"utf-8\"\u001b[0m\u001b[0;34m,\u001b[0m \u001b[0;34m'ignore'\u001b[0m\u001b[0;34m)\u001b[0m\u001b[0;34m\u001b[0m\u001b[0;34m\u001b[0m\u001b[0m\n\u001b[1;32m    277\u001b[0m     \u001b[0mstderr\u001b[0m \u001b[0;34m=\u001b[0m \u001b[0mstderr\u001b[0m\u001b[0;34m.\u001b[0m\u001b[0mdecode\u001b[0m\u001b[0;34m(\u001b[0m\u001b[0;34m\"utf-8\"\u001b[0m\u001b[0;34m,\u001b[0m \u001b[0;34m'ignore'\u001b[0m\u001b[0;34m)\u001b[0m\u001b[0;34m\u001b[0m\u001b[0;34m\u001b[0m\u001b[0m\n",
            "\u001b[0;32m/usr/lib/python3.10/subprocess.py\u001b[0m in \u001b[0;36mcommunicate\u001b[0;34m(self, input, timeout)\u001b[0m\n\u001b[1;32m   1152\u001b[0m \u001b[0;34m\u001b[0m\u001b[0m\n\u001b[1;32m   1153\u001b[0m             \u001b[0;32mtry\u001b[0m\u001b[0;34m:\u001b[0m\u001b[0;34m\u001b[0m\u001b[0;34m\u001b[0m\u001b[0m\n\u001b[0;32m-> 1154\u001b[0;31m                 \u001b[0mstdout\u001b[0m\u001b[0;34m,\u001b[0m \u001b[0mstderr\u001b[0m \u001b[0;34m=\u001b[0m \u001b[0mself\u001b[0m\u001b[0;34m.\u001b[0m\u001b[0m_communicate\u001b[0m\u001b[0;34m(\u001b[0m\u001b[0minput\u001b[0m\u001b[0;34m,\u001b[0m \u001b[0mendtime\u001b[0m\u001b[0;34m,\u001b[0m \u001b[0mtimeout\u001b[0m\u001b[0;34m)\u001b[0m\u001b[0;34m\u001b[0m\u001b[0;34m\u001b[0m\u001b[0m\n\u001b[0m\u001b[1;32m   1155\u001b[0m             \u001b[0;32mexcept\u001b[0m \u001b[0mKeyboardInterrupt\u001b[0m\u001b[0;34m:\u001b[0m\u001b[0;34m\u001b[0m\u001b[0;34m\u001b[0m\u001b[0m\n\u001b[1;32m   1156\u001b[0m                 \u001b[0;31m# https://bugs.python.org/issue25942\u001b[0m\u001b[0;34m\u001b[0m\u001b[0;34m\u001b[0m\u001b[0m\n",
            "\u001b[0;32m/usr/lib/python3.10/subprocess.py\u001b[0m in \u001b[0;36m_communicate\u001b[0;34m(self, input, endtime, orig_timeout)\u001b[0m\n\u001b[1;32m   2019\u001b[0m                             'failed to raise TimeoutExpired.')\n\u001b[1;32m   2020\u001b[0m \u001b[0;34m\u001b[0m\u001b[0m\n\u001b[0;32m-> 2021\u001b[0;31m                     \u001b[0mready\u001b[0m \u001b[0;34m=\u001b[0m \u001b[0mselector\u001b[0m\u001b[0;34m.\u001b[0m\u001b[0mselect\u001b[0m\u001b[0;34m(\u001b[0m\u001b[0mtimeout\u001b[0m\u001b[0;34m)\u001b[0m\u001b[0;34m\u001b[0m\u001b[0;34m\u001b[0m\u001b[0m\n\u001b[0m\u001b[1;32m   2022\u001b[0m                     \u001b[0mself\u001b[0m\u001b[0;34m.\u001b[0m\u001b[0m_check_timeout\u001b[0m\u001b[0;34m(\u001b[0m\u001b[0mendtime\u001b[0m\u001b[0;34m,\u001b[0m \u001b[0morig_timeout\u001b[0m\u001b[0;34m,\u001b[0m \u001b[0mstdout\u001b[0m\u001b[0;34m,\u001b[0m \u001b[0mstderr\u001b[0m\u001b[0;34m)\u001b[0m\u001b[0;34m\u001b[0m\u001b[0;34m\u001b[0m\u001b[0m\n\u001b[1;32m   2023\u001b[0m \u001b[0;34m\u001b[0m\u001b[0m\n",
            "\u001b[0;32m/usr/lib/python3.10/selectors.py\u001b[0m in \u001b[0;36mselect\u001b[0;34m(self, timeout)\u001b[0m\n\u001b[1;32m    414\u001b[0m         \u001b[0mready\u001b[0m \u001b[0;34m=\u001b[0m \u001b[0;34m[\u001b[0m\u001b[0;34m]\u001b[0m\u001b[0;34m\u001b[0m\u001b[0;34m\u001b[0m\u001b[0m\n\u001b[1;32m    415\u001b[0m         \u001b[0;32mtry\u001b[0m\u001b[0;34m:\u001b[0m\u001b[0;34m\u001b[0m\u001b[0;34m\u001b[0m\u001b[0m\n\u001b[0;32m--> 416\u001b[0;31m             \u001b[0mfd_event_list\u001b[0m \u001b[0;34m=\u001b[0m \u001b[0mself\u001b[0m\u001b[0;34m.\u001b[0m\u001b[0m_selector\u001b[0m\u001b[0;34m.\u001b[0m\u001b[0mpoll\u001b[0m\u001b[0;34m(\u001b[0m\u001b[0mtimeout\u001b[0m\u001b[0;34m)\u001b[0m\u001b[0;34m\u001b[0m\u001b[0;34m\u001b[0m\u001b[0m\n\u001b[0m\u001b[1;32m    417\u001b[0m         \u001b[0;32mexcept\u001b[0m \u001b[0mInterruptedError\u001b[0m\u001b[0;34m:\u001b[0m\u001b[0;34m\u001b[0m\u001b[0;34m\u001b[0m\u001b[0m\n\u001b[1;32m    418\u001b[0m             \u001b[0;32mreturn\u001b[0m \u001b[0mready\u001b[0m\u001b[0;34m\u001b[0m\u001b[0;34m\u001b[0m\u001b[0m\n",
            "\u001b[0;31mKeyboardInterrupt\u001b[0m: "
          ]
        }
      ]
    },
    {
      "cell_type": "code",
      "source": [],
      "metadata": {
        "id": "A_kOI3_Nfl3V"
      },
      "execution_count": null,
      "outputs": []
    }
  ]
}